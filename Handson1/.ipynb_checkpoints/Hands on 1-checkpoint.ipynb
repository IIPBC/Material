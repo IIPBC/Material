{
 "cells": [
  {
   "cell_type": "markdown",
   "metadata": {
    "deletable": true,
    "editable": true
   },
   "source": [
    "# Hands-on 13/02/2017"
   ]
  },
  {
   "cell_type": "raw",
   "metadata": {
    "deletable": true,
    "editable": true
   },
   "source": [
    "1. Print \"Hello world\"\n",
    "  How many characters are there in \"Hello world\"?\n",
    "2. Print \"Hello world 2017\" from the sum of \"Hello\",'world' and 2017\n",
    "3. import numpy\n",
    "4. Make a list of an integer from 1 to 10.\n",
    "5. Insert the number 11 at the end of the list \n",
    "    Hint: you can use the append method\n",
    "6. Reverse the list\n",
    "\n",
    "7. Create a function that returns the square of the list \n",
    "    hint: transform the list into a numpy array.\n",
    "   \n",
    "   How many interger are superior to 50?\n",
    "    \n",
    "8. Create a dictionary in which the keys are the acronyms of the USP institutes and the values the complete name\n",
    "\n",
    "    Escola de Artes, Ciências e Humanidades (EACH)\n",
    "    Escola de Comunicações e Artes (ECA)\n",
    "    Escola de Educação Física e Esporte (EEFE)\n",
    "    Escola de Enfermagem (EE)\n",
    "    Escola Politécnica (Poli)\n",
    "    Faculdade de Arquitetura e Urbanismo (FAU)\n",
    "\n",
    "\n",
    "9. In this dictionary, insert the IAG Python Boot Camp with the PBCII acronym\n",
    "\n",
    "10. Write a Python script to generate and print a dictionary that contains a number (between 1 and n) in the form (x, x^2). Go to the editor\n",
    "    Sample Dictionary ( n = 100) : \n",
    "    Expected Output : {1: 1, 2: 4, 3: 9, 4: 16, 5: 25 ....}\n",
    "    \n",
    "11. - Defina a variável a = 'maine coon' e com apenas 1 (um) comando sobre a variável:\n",
    " 1) Escreva MAINE COON\n",
    " 2) Escreva Maine Coon\n",
    " 3) Inverta maine coon\n",
    "\n",
    "\n",
    "\n",
    "12. - Via de regra, os índices de uma string são imutáveis. Crie uma\n",
    " variável e atribua o valor 'Bitcheti'.\n",
    " Usando as operações com strings que você aprendeu, faça o último 'i' na variável ser transformado em 'e' (sem redefinir a variável).\n",
    "\n",
    "\n",
    "\n",
    "13. - Dada a variável var = 'Para medir o calor do dia, olhem para o comprimento do gato que dorme.'\n",
    " 1) Qual o tamanho da string?\n",
    " 2) Verifique se começa com 'p'? Justifique sua resposta\n",
    " 3) Verifique se termina com '.'\n",
    " 4) Verifique a posição do caractere ','\n",
    " 5) Troque o caractere '.' por '!'\n",
    " 6) Dada a lista mercado = ['1 kg de banana', '12 ovos', '1kg de farinha'], acrescente a string 'fermento em pó'.\n",
    "\n",
    "\n",
    "\n",
    "14. - Crie um código para uma outra pessoa executar. Pergunte seu nome e a convide para tomar um chá, um café ou um suco. Deixe a opção de ela não querer tomar nada; caso ela escolha esta opção escreva um smile triste.\n",
    "\n",
    "\n",
    "\n",
    "15. - Tomo lanche todas as noites na faculdade, de segunda a sexta. Faça um código, usando contadores e acumuladores, que calcule quanto gasto por semana.\n",
    "\n",
    "16. - Faça uma função para pedir ao usuário dois números e calcular a divisão entre eles.\n",
    " Informe:\n",
    " - o valor exato da divisão \n",
    " - o valor inteiro\n",
    " - o resto\n",
    "\n"
   ]
  }
 ],
 "metadata": {
  "kernelspec": {
   "display_name": "Python 2",
   "language": "python",
   "name": "python2"
  },
  "language_info": {
   "codemirror_mode": {
    "name": "ipython",
    "version": 2
   },
   "file_extension": ".py",
   "mimetype": "text/x-python",
   "name": "python",
   "nbconvert_exporter": "python",
   "pygments_lexer": "ipython2",
   "version": "2.7.9"
  }
 },
 "nbformat": 4,
 "nbformat_minor": 2
}
