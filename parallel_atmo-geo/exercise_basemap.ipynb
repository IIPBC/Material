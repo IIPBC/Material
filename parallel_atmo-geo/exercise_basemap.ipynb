{
 "cells": [
  {
   "cell_type": "markdown",
   "metadata": {
    "deletable": true,
    "editable": true
   },
   "source": [
    "# Netcdf and Basemap\n",
    "\n",
    "### Exercise:\n",
    "\n",
    "Make a plot of the model temperature and wind over South America using Basemap. This plot must contains:\n",
    " * States boundarys (See the following link: http://basemaptutorial.readthedocs.io/en/latest/shapefile.html)\n",
    " * Meridians and parallels (Get http://matplotlib.org/basemap/users/examples.html)\n",
    " * Colorbar with a label\n",
    " * A title containing the variables and date"
   ]
  },
  {
   "cell_type": "code",
   "execution_count": 14,
   "metadata": {
    "collapsed": false,
    "deletable": true,
    "editable": true
   },
   "outputs": [],
   "source": [
    "import numpy as np\n",
    "from scipy.io import netcdf\n",
    "from matplotlib import pyplot as plt\n",
    "from mpl_toolkits.basemap import Basemap\n",
    "from datetime import datetime, timedelta\n",
    "%matplotlib inline"
   ]
  },
  {
   "cell_type": "code",
   "execution_count": 15,
   "metadata": {
    "collapsed": false,
    "deletable": true,
    "editable": true
   },
   "outputs": [],
   "source": [
    "f = netcdf.netcdf_file('./data/r2_reanalysis.nc', 'r')"
   ]
  },
  {
   "cell_type": "code",
   "execution_count": 16,
   "metadata": {
    "collapsed": false,
    "deletable": true,
    "editable": true
   },
   "outputs": [],
   "source": [
    "u = f.variables['u']\n",
    "v = f.variables['v']\n",
    "t = f.variables['t']\n",
    "\n",
    "longitude = f.variables['lon'][:]\n",
    "latitude = f.variables['lat'][:]\n",
    "level = f.variables['level'][:]\n",
    "time = f.variables['time']"
   ]
  },
  {
   "cell_type": "code",
   "execution_count": 17,
   "metadata": {
    "collapsed": false,
    "deletable": true,
    "editable": true
   },
   "outputs": [],
   "source": [
    "def unpack(var):\n",
    "    return var[:] * var.scale_factor + var.add_offset "
   ]
  },
  {
   "cell_type": "code",
   "execution_count": 7,
   "metadata": {
    "collapsed": false,
    "deletable": true,
    "editable": true
   },
   "outputs": [],
   "source": [
    "u = unpack(u)\n",
    "v = unpack(v)\n",
    "t = unpack(t)"
   ]
  },
  {
   "cell_type": "code",
   "execution_count": 8,
   "metadata": {
    "collapsed": true,
    "deletable": true,
    "editable": true
   },
   "outputs": [],
   "source": [
    "def flip_grid(var, lons):\n",
    "    fltr = lons >= 180\n",
    "    # fltr =  [False False False ... True  True  True]\n",
    "    newlons = np.concatenate(((lons - 360)[fltr], lons[~fltr]), axis=-1)\n",
    "    # newlons = [-180 -177.5 -175 ... -5 -2.5 ] concatenated with [0 2.5 5 ... 175 177.5]\n",
    "    # newlons = [-180 -177.5 -175 ... 175 177.5 180]\n",
    "    if var.ndim == 2:\n",
    "        newvar = np.concatenate((var[:, fltr], var[:, ~fltr]), axis=-1)\n",
    "    elif var.ndim == 3:\n",
    "        newvar = np.concatenate((var[:, :, fltr], var[:, :, ~fltr]), axis=-1)\n",
    "    elif var.ndim == 4:\n",
    "        newvar = np.concatenate((var[:, :, :, fltr], var[:, :, :, ~fltr]), axis=-1)        \n",
    "        \n",
    "    return newvar, newlons"
   ]
  },
  {
   "cell_type": "code",
   "execution_count": 9,
   "metadata": {
    "collapsed": false,
    "deletable": true,
    "editable": true
   },
   "outputs": [],
   "source": [
    "u, newlon = flip_grid(u, longitude)\n",
    "v, newlon = flip_grid(v, longitude)\n",
    "t, newlon = flip_grid(t, longitude)"
   ]
  },
  {
   "cell_type": "code",
   "execution_count": 10,
   "metadata": {
    "collapsed": true,
    "deletable": true,
    "editable": true
   },
   "outputs": [],
   "source": [
    "lons, lats = np.meshgrid(newlon, latitude)"
   ]
  },
  {
   "cell_type": "code",
   "execution_count": 11,
   "metadata": {
    "collapsed": true,
    "deletable": true,
    "editable": true
   },
   "outputs": [],
   "source": [
    "def get_dates(time):\n",
    "    splited_date = time.units.split()\n",
    "    # splited_date = ['hours', 'since', '1800-1-1', '00:00:00']\n",
    "    start_date_string = ' '.join(splited_date[-2:])\n",
    "    # start_date_string = 1800-1-1 00:00:00\n",
    "    # convert string into datetime object\n",
    "    start_date = datetime.strptime(start_date_string, '%Y-%m-%d %H:%M:%S')\n",
    "    \n",
    "    dates = [start_date + timedelta(hours=i) for i in time[:]]\n",
    "    return dates"
   ]
  },
  {
   "cell_type": "code",
   "execution_count": 12,
   "metadata": {
    "collapsed": true,
    "deletable": true,
    "editable": true
   },
   "outputs": [],
   "source": [
    "dates = get_dates(time)"
   ]
  },
  {
   "cell_type": "markdown",
   "metadata": {
    "collapsed": true,
    "deletable": true,
    "editable": true
   },
   "source": [
    "## JUST DO IT!"
   ]
  },
  {
   "cell_type": "code",
   "execution_count": null,
   "metadata": {
    "collapsed": true
   },
   "outputs": [],
   "source": []
  }
 ],
 "metadata": {
  "anaconda-cloud": {},
  "kernelspec": {
   "display_name": "Python 2",
   "language": "python",
   "name": "python2"
  },
  "language_info": {
   "codemirror_mode": {
    "name": "ipython",
    "version": 2
   },
   "file_extension": ".py",
   "mimetype": "text/x-python",
   "name": "python",
   "nbconvert_exporter": "python",
   "pygments_lexer": "ipython2",
   "version": "2.7.9"
  }
 },
 "nbformat": 4,
 "nbformat_minor": 0
}
