{
 "cells": [
  {
   "cell_type": "markdown",
   "metadata": {
    "deletable": true,
    "editable": true
   },
   "source": [
    "# Download file from website using urllib\n",
    "In this notebook we present a simple example on how to use the python module urllib to download files from a website.\n"
   ]
  },
  {
   "cell_type": "code",
   "execution_count": 1,
   "metadata": {
    "collapsed": true,
    "deletable": true,
    "editable": true
   },
   "outputs": [],
   "source": [
    "import urllib # import the module urllib"
   ]
  },
  {
   "cell_type": "code",
   "execution_count": 2,
   "metadata": {
    "collapsed": true,
    "deletable": true,
    "editable": true
   },
   "outputs": [],
   "source": [
    "url = \"https://nomads.ncdc.noaa.gov/data/gfs4/201702/20170201/\" # Link of the directory with the files to download\n",
    "outpath = \".\" # Define the directory where you want to store the data"
   ]
  },
  {
   "cell_type": "markdown",
   "metadata": {
    "deletable": true,
    "editable": true
   },
   "source": [
    "## Download one file\n",
    "\"gfs_4_20170201_0000_000.grb2\" file description: \n",
    "* _20170201 : Year/month/day\n",
    "* _0000: Start run\n",
    "* _000: forecast hours"
   ]
  },
  {
   "cell_type": "code",
   "execution_count": 3,
   "metadata": {
    "collapsed": false,
    "deletable": true,
    "editable": true
   },
   "outputs": [
    {
     "name": "stdout",
     "output_type": "stream",
     "text": [
      "https://nomads.ncdc.noaa.gov/data/gfs4/201702/20170201/gfs_4_20170201_0000_000.grb2\n"
     ]
    }
   ],
   "source": [
    "filename = \"gfs_4_20170201_0000_000.grb2\"  \n",
    "print url+filename # print the full link of the file"
   ]
  },
  {
   "cell_type": "markdown",
   "metadata": {
    "deletable": true,
    "editable": true
   },
   "source": [
    "Download the file"
   ]
  },
  {
   "cell_type": "code",
   "execution_count": 8,
   "metadata": {
    "collapsed": false,
    "deletable": true,
    "editable": true
   },
   "outputs": [
    {
     "data": {
      "text/plain": [
       "('.gfs_4_20170201_0000_000.grb2',\n",
       " <httplib.HTTPMessage instance at 0x7f4965861ab8>)"
      ]
     },
     "execution_count": 8,
     "metadata": {},
     "output_type": "execute_result"
    }
   ],
   "source": [
    "urllib.urlretrieve(url+filename, outpath+filename) # arg1: link of the file, arg2: output path "
   ]
  },
  {
   "cell_type": "markdown",
   "metadata": {
    "deletable": true,
    "editable": true
   },
   "source": [
    "## Download multiple files\n",
    "Let's download all the forecast up to 120H"
   ]
  },
  {
   "cell_type": "markdown",
   "metadata": {
    "deletable": true,
    "editable": true
   },
   "source": [
    "Create a list of integer"
   ]
  },
  {
   "cell_type": "code",
   "execution_count": 9,
   "metadata": {
    "collapsed": false,
    "deletable": true,
    "editable": true
   },
   "outputs": [
    {
     "name": "stdout",
     "output_type": "stream",
     "text": [
      "[1, 2, 3, 4, 5, 6, 7, 8, 9, 10, 11, 12, 13, 14, 15, 16, 17, 18, 19, 20, 21, 22, 23, 24, 25, 26, 27, 28, 29, 30, 31, 32, 33, 34, 35, 36, 37, 38, 39, 40, 41, 42, 43, 44, 45, 46, 47, 48, 49, 50, 51, 52, 53, 54, 55, 56, 57, 58, 59, 60, 61, 62, 63, 64, 65, 66, 67, 68, 69, 70, 71, 72, 73, 74, 75, 76, 77, 78, 79, 80, 81, 82, 83, 84, 85, 86, 87, 88, 89, 90, 91, 92, 93, 94, 95, 96, 97, 98, 99, 100, 101, 102, 103, 104, 105, 106, 107, 108, 109, 110, 111, 112, 113, 114, 115, 116, 117, 118, 119, 120]\n"
     ]
    }
   ],
   "source": [
    "rng = range(1, 121)\n",
    "print rng"
   ]
  },
  {
   "cell_type": "markdown",
   "metadata": {
    "deletable": true,
    "editable": true
   },
   "source": [
    "Convert into a string and modify in the correct format"
   ]
  },
  {
   "cell_type": "code",
   "execution_count": 10,
   "metadata": {
    "collapsed": true,
    "deletable": true,
    "editable": true
   },
   "outputs": [
    {
     "name": "stdout",
     "output_type": "stream",
     "text": [
      "001\n",
      "002\n",
      "003\n",
      "004\n",
      "005\n",
      "006\n",
      "007\n",
      "008\n",
      "009\n",
      "010\n",
      "011\n",
      "012\n",
      "013\n",
      "014\n",
      "015\n",
      "016\n",
      "017\n",
      "018\n",
      "019\n",
      "020\n",
      "021\n",
      "022\n",
      "023\n",
      "024\n",
      "025\n",
      "026\n",
      "027\n",
      "028\n",
      "029\n",
      "030\n",
      "031\n",
      "032\n",
      "033\n",
      "034\n",
      "035\n",
      "036\n",
      "037\n",
      "038\n",
      "039\n",
      "040\n",
      "041\n",
      "042\n",
      "043\n",
      "044\n",
      "045\n",
      "046\n",
      "047\n",
      "048\n",
      "049\n",
      "050\n",
      "051\n",
      "052\n",
      "053\n",
      "054\n",
      "055\n",
      "056\n",
      "057\n",
      "058\n",
      "059\n",
      "060\n",
      "061\n",
      "062\n",
      "063\n",
      "064\n",
      "065\n",
      "066\n",
      "067\n",
      "068\n",
      "069\n",
      "070\n",
      "071\n",
      "072\n",
      "073\n",
      "074\n",
      "075\n",
      "076\n",
      "077\n",
      "078\n",
      "079\n",
      "080\n",
      "081\n",
      "082\n",
      "083\n",
      "084\n",
      "085\n",
      "086\n",
      "087\n",
      "088\n",
      "089\n",
      "090\n",
      "091\n",
      "092\n",
      "093\n",
      "094\n",
      "095\n",
      "096\n",
      "097\n",
      "098\n",
      "099\n",
      "100\n",
      "101\n",
      "102\n",
      "103\n",
      "104\n",
      "105\n",
      "106\n",
      "107\n",
      "108\n",
      "109\n",
      "110\n",
      "111\n",
      "112\n",
      "113\n",
      "114\n",
      "115\n",
      "116\n",
      "117\n",
      "118\n",
      "119\n",
      "120\n"
     ]
    }
   ],
   "source": [
    "for r in rng:\n",
    "    print str(r).zfill(3)"
   ]
  },
  {
   "cell_type": "markdown",
   "metadata": {
    "deletable": true,
    "editable": true
   },
   "source": [
    "### Create a list with the filename to be downloaded"
   ]
  },
  {
   "cell_type": "code",
   "execution_count": 11,
   "metadata": {
    "collapsed": true,
    "deletable": true,
    "editable": true
   },
   "outputs": [],
   "source": [
    "basename = \"gfs_4_20170201_0000_\""
   ]
  },
  {
   "cell_type": "code",
   "execution_count": 12,
   "metadata": {
    "collapsed": false,
    "deletable": true,
    "editable": true
   },
   "outputs": [
    {
     "data": {
      "text/plain": [
       "'gfs_4_20170201_0000_120.grb2'"
      ]
     },
     "execution_count": 12,
     "metadata": {},
     "output_type": "execute_result"
    }
   ],
   "source": [
    "basename + str(r).zfill(3)+\".grb2\" # full filename"
   ]
  },
  {
   "cell_type": "code",
   "execution_count": 14,
   "metadata": {
    "collapsed": false,
    "deletable": true,
    "editable": true
   },
   "outputs": [
    {
     "name": "stdout",
     "output_type": "stream",
     "text": [
      "gfs_4_20170201_0000_001.grb2\n",
      "gfs_4_20170201_0000_002.grb2\n",
      "gfs_4_20170201_0000_003.grb2\n",
      "gfs_4_20170201_0000_004.grb2\n",
      "gfs_4_20170201_0000_005.grb2\n",
      "gfs_4_20170201_0000_006.grb2\n",
      "gfs_4_20170201_0000_007.grb2\n",
      "gfs_4_20170201_0000_008.grb2\n",
      "gfs_4_20170201_0000_009.grb2\n",
      "gfs_4_20170201_0000_010.grb2\n",
      "gfs_4_20170201_0000_011.grb2\n",
      "gfs_4_20170201_0000_012.grb2\n",
      "gfs_4_20170201_0000_013.grb2\n",
      "gfs_4_20170201_0000_014.grb2\n",
      "gfs_4_20170201_0000_015.grb2\n",
      "gfs_4_20170201_0000_016.grb2\n",
      "gfs_4_20170201_0000_017.grb2\n",
      "gfs_4_20170201_0000_018.grb2\n",
      "gfs_4_20170201_0000_019.grb2\n",
      "gfs_4_20170201_0000_020.grb2\n",
      "gfs_4_20170201_0000_021.grb2\n",
      "gfs_4_20170201_0000_022.grb2\n",
      "gfs_4_20170201_0000_023.grb2\n",
      "gfs_4_20170201_0000_024.grb2\n",
      "gfs_4_20170201_0000_025.grb2\n",
      "gfs_4_20170201_0000_026.grb2\n",
      "gfs_4_20170201_0000_027.grb2\n",
      "gfs_4_20170201_0000_028.grb2\n",
      "gfs_4_20170201_0000_029.grb2\n",
      "gfs_4_20170201_0000_030.grb2\n",
      "gfs_4_20170201_0000_031.grb2\n",
      "gfs_4_20170201_0000_032.grb2\n",
      "gfs_4_20170201_0000_033.grb2\n",
      "gfs_4_20170201_0000_034.grb2\n",
      "gfs_4_20170201_0000_035.grb2\n",
      "gfs_4_20170201_0000_036.grb2\n",
      "gfs_4_20170201_0000_037.grb2\n",
      "gfs_4_20170201_0000_038.grb2\n",
      "gfs_4_20170201_0000_039.grb2\n",
      "gfs_4_20170201_0000_040.grb2\n",
      "gfs_4_20170201_0000_041.grb2\n",
      "gfs_4_20170201_0000_042.grb2\n",
      "gfs_4_20170201_0000_043.grb2\n",
      "gfs_4_20170201_0000_044.grb2\n",
      "gfs_4_20170201_0000_045.grb2\n",
      "gfs_4_20170201_0000_046.grb2\n",
      "gfs_4_20170201_0000_047.grb2\n",
      "gfs_4_20170201_0000_048.grb2\n",
      "gfs_4_20170201_0000_049.grb2\n",
      "gfs_4_20170201_0000_050.grb2\n",
      "gfs_4_20170201_0000_051.grb2\n",
      "gfs_4_20170201_0000_052.grb2\n",
      "gfs_4_20170201_0000_053.grb2\n",
      "gfs_4_20170201_0000_054.grb2\n",
      "gfs_4_20170201_0000_055.grb2\n",
      "gfs_4_20170201_0000_056.grb2\n",
      "gfs_4_20170201_0000_057.grb2\n",
      "gfs_4_20170201_0000_058.grb2\n",
      "gfs_4_20170201_0000_059.grb2\n",
      "gfs_4_20170201_0000_060.grb2\n",
      "gfs_4_20170201_0000_061.grb2\n",
      "gfs_4_20170201_0000_062.grb2\n",
      "gfs_4_20170201_0000_063.grb2\n",
      "gfs_4_20170201_0000_064.grb2\n",
      "gfs_4_20170201_0000_065.grb2\n",
      "gfs_4_20170201_0000_066.grb2\n",
      "gfs_4_20170201_0000_067.grb2\n",
      "gfs_4_20170201_0000_068.grb2\n",
      "gfs_4_20170201_0000_069.grb2\n",
      "gfs_4_20170201_0000_070.grb2\n",
      "gfs_4_20170201_0000_071.grb2\n",
      "gfs_4_20170201_0000_072.grb2\n",
      "gfs_4_20170201_0000_073.grb2\n",
      "gfs_4_20170201_0000_074.grb2\n",
      "gfs_4_20170201_0000_075.grb2\n",
      "gfs_4_20170201_0000_076.grb2\n",
      "gfs_4_20170201_0000_077.grb2\n",
      "gfs_4_20170201_0000_078.grb2\n",
      "gfs_4_20170201_0000_079.grb2\n",
      "gfs_4_20170201_0000_080.grb2\n",
      "gfs_4_20170201_0000_081.grb2\n",
      "gfs_4_20170201_0000_082.grb2\n",
      "gfs_4_20170201_0000_083.grb2\n",
      "gfs_4_20170201_0000_084.grb2\n",
      "gfs_4_20170201_0000_085.grb2\n",
      "gfs_4_20170201_0000_086.grb2\n",
      "gfs_4_20170201_0000_087.grb2\n",
      "gfs_4_20170201_0000_088.grb2\n",
      "gfs_4_20170201_0000_089.grb2\n",
      "gfs_4_20170201_0000_090.grb2\n",
      "gfs_4_20170201_0000_091.grb2\n",
      "gfs_4_20170201_0000_092.grb2\n",
      "gfs_4_20170201_0000_093.grb2\n",
      "gfs_4_20170201_0000_094.grb2\n",
      "gfs_4_20170201_0000_095.grb2\n",
      "gfs_4_20170201_0000_096.grb2\n",
      "gfs_4_20170201_0000_097.grb2\n",
      "gfs_4_20170201_0000_098.grb2\n",
      "gfs_4_20170201_0000_099.grb2\n",
      "gfs_4_20170201_0000_100.grb2\n",
      "gfs_4_20170201_0000_101.grb2\n",
      "gfs_4_20170201_0000_102.grb2\n",
      "gfs_4_20170201_0000_103.grb2\n",
      "gfs_4_20170201_0000_104.grb2\n",
      "gfs_4_20170201_0000_105.grb2\n",
      "gfs_4_20170201_0000_106.grb2\n",
      "gfs_4_20170201_0000_107.grb2\n",
      "gfs_4_20170201_0000_108.grb2\n",
      "gfs_4_20170201_0000_109.grb2\n",
      "gfs_4_20170201_0000_110.grb2\n",
      "gfs_4_20170201_0000_111.grb2\n",
      "gfs_4_20170201_0000_112.grb2\n",
      "gfs_4_20170201_0000_113.grb2\n",
      "gfs_4_20170201_0000_114.grb2\n",
      "gfs_4_20170201_0000_115.grb2\n",
      "gfs_4_20170201_0000_116.grb2\n",
      "gfs_4_20170201_0000_117.grb2\n",
      "gfs_4_20170201_0000_118.grb2\n",
      "gfs_4_20170201_0000_119.grb2\n",
      "gfs_4_20170201_0000_120.grb2\n"
     ]
    }
   ],
   "source": [
    "filenames = [basename + str(r).zfill(3)+\".grb2\" for r in rng]\n",
    "for filename in filenames:\n",
    "    print filename"
   ]
  },
  {
   "cell_type": "markdown",
   "metadata": {
    "deletable": true,
    "editable": true
   },
   "source": [
    "Perform the download"
   ]
  },
  {
   "cell_type": "code",
   "execution_count": null,
   "metadata": {
    "collapsed": false,
    "deletable": true,
    "editable": true,
    "scrolled": false
   },
   "outputs": [
    {
     "name": "stdout",
     "output_type": "stream",
     "text": [
      "gfs_4_20170201_0000_001.grb2\n",
      "gfs_4_20170201_0000_002.grb2\n",
      "gfs_4_20170201_0000_003.grb2\n",
      "gfs_4_20170201_0000_004.grb2\n",
      "gfs_4_20170201_0000_005.grb2\n",
      "gfs_4_20170201_0000_006.grb2\n",
      "gfs_4_20170201_0000_007.grb2\n",
      "gfs_4_20170201_0000_008.grb2\n",
      "gfs_4_20170201_0000_009.grb2\n",
      "gfs_4_20170201_0000_010.grb2\n",
      "gfs_4_20170201_0000_011.grb2\n",
      "gfs_4_20170201_0000_012.grb2\n",
      "gfs_4_20170201_0000_013.grb2\n",
      "gfs_4_20170201_0000_014.grb2\n",
      "gfs_4_20170201_0000_015.grb2\n",
      "gfs_4_20170201_0000_016.grb2\n",
      "gfs_4_20170201_0000_017.grb2\n",
      "gfs_4_20170201_0000_018.grb2\n",
      "gfs_4_20170201_0000_019.grb2\n",
      "gfs_4_20170201_0000_020.grb2\n",
      "gfs_4_20170201_0000_021.grb2\n",
      "gfs_4_20170201_0000_022.grb2\n",
      "gfs_4_20170201_0000_023.grb2\n",
      "gfs_4_20170201_0000_024.grb2\n",
      "gfs_4_20170201_0000_025.grb2\n",
      "gfs_4_20170201_0000_026.grb2\n",
      "gfs_4_20170201_0000_027.grb2\n",
      "gfs_4_20170201_0000_028.grb2\n",
      "gfs_4_20170201_0000_029.grb2\n",
      "gfs_4_20170201_0000_030.grb2\n"
     ]
    }
   ],
   "source": [
    "for filename in filenames:\n",
    "    print filename\n",
    "    urllib.urlretrieve(url+filename, outpath+filename)"
   ]
  },
  {
   "cell_type": "code",
   "execution_count": null,
   "metadata": {
    "collapsed": true
   },
   "outputs": [],
   "source": []
  }
 ],
 "metadata": {
  "kernelspec": {
   "display_name": "Python 2",
   "language": "python",
   "name": "python2"
  },
  "language_info": {
   "codemirror_mode": {
    "name": "ipython",
    "version": 2
   },
   "file_extension": ".py",
   "mimetype": "text/x-python",
   "name": "python",
   "nbconvert_exporter": "python",
   "pygments_lexer": "ipython2",
   "version": "2.7.9"
  }
 },
 "nbformat": 4,
 "nbformat_minor": 2
}
