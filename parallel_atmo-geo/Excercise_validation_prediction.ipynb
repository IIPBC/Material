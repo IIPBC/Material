{
 "cells": [
  {
   "cell_type": "markdown",
   "metadata": {},
   "source": [
    "# Excercises:\n",
    "## Comparison of simulated and observed climatic variable\n",
    "## Prediction of station temperature from model values"
   ]
  },
  {
   "cell_type": "markdown",
   "metadata": {},
   "source": [
    "1. Plot the histogram of the daily accumulated precipitation bias between the large scale model and the observed values at the meteorological station. ** The model is mostly overestimating or underestimating the precipitation?**\n",
    "  1. Model data -> modeldata.csv\n",
    "  2. observation data -> observation.txt\n",
    "  \n",
    "2. Make a scatter plot of the simulated minimum (in blue) and maximum (in red) temperature in function of the observed temperature. ** From visual interpretation, the large scale model have better skill to predict minimum or maximum temperature? **\n",
    "\n",
    "3. Perform a linear regression between the simulated and observed minimum temperature.\n",
    "  1. Use the first 80% of the dataset as a training set and keep the other 20% to validate your model.\n",
    "  2. Validate your model with the test dataset, **what is the RMSE of your model?**\n"
   ]
  }
 ],
 "metadata": {
  "kernelspec": {
   "display_name": "Python 2",
   "language": "python",
   "name": "python2"
  },
  "language_info": {
   "codemirror_mode": {
    "name": "ipython",
    "version": 2
   },
   "file_extension": ".py",
   "mimetype": "text/x-python",
   "name": "python",
   "nbconvert_exporter": "python",
   "pygments_lexer": "ipython2",
   "version": "2.7.9"
  }
 },
 "nbformat": 4,
 "nbformat_minor": 2
}
