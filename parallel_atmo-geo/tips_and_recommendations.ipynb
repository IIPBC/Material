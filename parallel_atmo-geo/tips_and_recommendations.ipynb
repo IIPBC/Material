{
 "cells": [
  {
   "cell_type": "markdown",
   "metadata": {},
   "source": [
    "# Tips and Recommendations\n",
    "\n",
    "## Libraries\n",
    "\n",
    "* pygrads: The Python interface to GrADS is an alternative method of scripting GrADS that can take advantage of the unique capabilities of Python. Link: http://opengrads.org/\n",
    "* f2py: The purpose of the F2PY –Fortran to Python interface generator– project is to provide a connection between Python and Fortran languages. Link: https://docs.scipy.org/doc/numpy-dev/f2py/\n",
    "* netCDF4: http://unidata.github.io/netcdf4-python/\n",
    "* pygrib: Python module for reading and writing GRIB (editions 1 and 2) files. GRIB is the World Meterological Organization standard for distributing gridded data. The module is a python interface to the GRIB API C library from the European Centre for Medium-Range Weather Forecasts (ECMWF). Link: https://jswhit.github.io/pygrib/docs/pygrib-module.html\n",
    "* keras: Keras is a high-level neural networks library, written in Python and capable of running on top of either TensorFlow or Theano. It was developed with a focus on enabling fast experimentation. Being able to go from idea to result with the least possible delay is key to doing good research. Link: https://keras.io/\n",
    "* cdo bindings: This scripting language package is essentially a wrapper around the CDO binary. It parses method arguments and options, builds a command line and executes it. There is no shared C-library backend which calls CDO operators. Link: https://code.zmaw.de/projects/cdo/wiki/Cdo%7Brbpy%7D\n",
    "* xarray: xarray (formerly xray) is an open source project and Python package that aims to bring the labeled data power of pandas to the physical sciences, by providing N-dimensional variants of the core pandas data structures. Link: http://xarray.pydata.org/en/stable/\n",
    "\n",
    "## Useful Stuff\n",
    "\n",
    "* earthpy: EarthPy is a collection of IPython notebooks with examples of Earth Science related Python code. It can be tutorials, descriptions of the modules, small scripts, or just tricks, that you think might be useful for others. Link: http://earthpy.org/\n",
    "* sentdex: Python Programming tutorials, going further than just the basics. Learn about machine learning, finance, data analysis, robotics, web development, game development and more. Link: https://www.youtube.com/user/sentdex/\n",
    "* Enthought: Enthought provides Python software, consulting, training, and support for scientists, engineers, analysts, and data scientists. Link: https://www.youtube.com/user/EnthoughtMedia/\n",
    "* anaconda: Anaconda is the leading open data science platform powered by Python. The open source version of Anaconda is a high performance distribution of Python and R and includes over 100 of the most popular Python, R and Scala packages for data science. Link: https://www.continuum.io/downloads"
   ]
  },
  {
   "cell_type": "code",
   "execution_count": null,
   "metadata": {
    "collapsed": true
   },
   "outputs": [],
   "source": []
  }
 ],
 "metadata": {
  "anaconda-cloud": {},
  "kernelspec": {
   "display_name": "Python [default]",
   "language": "python",
   "name": "python2"
  },
  "language_info": {
   "codemirror_mode": {
    "name": "ipython",
    "version": 2
   },
   "file_extension": ".py",
   "mimetype": "text/x-python",
   "name": "python",
   "nbconvert_exporter": "python",
   "pygments_lexer": "ipython2",
   "version": "2.7.12"
  }
 },
 "nbformat": 4,
 "nbformat_minor": 1
}
