{
 "cells": [
  {
   "cell_type": "markdown",
   "metadata": {},
   "source": [
    "# Your code pretty and healthy\n",
    "\n",
    "We all already had (or, at least, will have) the experience of getting to work with someone's piece of code and find it a nightmare to make it run, install, debug, etc. Sometimes this someone is our Past Selves that did not do a good job writing a code thinking that someday someone would need to use it.\n",
    "\n",
    "If one writes a code that it is not easy to install, easy to run, easily read and easily debuged, the chances that this code falls in the void are very high. Even when we are sure that we will be the only ones that will use this piece of code, if we don't do it properly the chances that we will have to write the code again are also very high.\n",
    "\n",
    "There are a lot of people (and probably the reader is one of these) that think that a readable-well-documented code is important but does not actually write codes like that, because... well... you know... it is just a draft of a script... I will use it only once... and I **do not want to waste time writing more lines to make it clearer**.\n",
    "\n",
    "Well, my friend. If you do not **dedicate** more time to make a good code, you will have to make it twice. Or three times. Or maybe four times. So where are you actually wasting your time?\n",
    "\n",
    "I did a quick research to investigate what people would think it is the most critical to maintain some code or piece of code alive, pretty and healthy. The results are shown bellow:\n",
    "\n",
    "<img scr=\"\" />\n",
    "\n",
    "So most people actually **do think** it is more important to have codes\n",
    "\n",
    "1. With good documentation\n",
    "2. That can be read easily\n",
    "\n",
    "But most people simply do not write code like that and my question is: Why?\n",
    "\n",
    "Python was developed for fast development. It is not a very efficient language if one thinks in terms of computational processing but it is much faster to write a code and implement an idea in Python than in any other language. Python was also created thinking on sharing this ideas so why people are still not writing clear codes? Why people still waste their time writing and repeating and re-inventing the wheel when there are tons of codes around there? \n",
    "\n",
    "If, at least, one of the reasons is because they simply does not know how to do it. Before actually seeing how to do it, let us open our terminals and pray the \"Zen of Phython\". If you never read it, read it. Now. 10 times. Really. "
   ]
  },
  {
   "cell_type": "markdown",
   "metadata": {},
   "source": [
    "## The Zen of Python\n",
    "\n",
    "The _Zen of Python_ can be easily found on Google but the actual easiest way to find it for reference is simply opening a terminal, typing `python` or `ipython` and then write `import this`. "
   ]
  },
  {
   "cell_type": "code",
   "execution_count": 1,
   "metadata": {
    "collapsed": false
   },
   "outputs": [
    {
     "name": "stdout",
     "output_type": "stream",
     "text": [
      "The Zen of Python, by Tim Peters\n",
      "\n",
      "Beautiful is better than ugly.\n",
      "Explicit is better than implicit.\n",
      "Simple is better than complex.\n",
      "Complex is better than complicated.\n",
      "Flat is better than nested.\n",
      "Sparse is better than dense.\n",
      "Readability counts.\n",
      "Special cases aren't special enough to break the rules.\n",
      "Although practicality beats purity.\n",
      "Errors should never pass silently.\n",
      "Unless explicitly silenced.\n",
      "In the face of ambiguity, refuse the temptation to guess.\n",
      "There should be one-- and preferably only one --obvious way to do it.\n",
      "Although that way may not be obvious at first unless you're Dutch.\n",
      "Now is better than never.\n",
      "Although never is often better than *right* now.\n",
      "If the implementation is hard to explain, it's a bad idea.\n",
      "If the implementation is easy to explain, it may be a good idea.\n",
      "Namespaces are one honking great idea -- let's do more of those!\n"
     ]
    }
   ],
   "source": [
    "import this"
   ]
  },
  {
   "cell_type": "markdown",
   "metadata": {},
   "source": [
    "This is almost like poetry but it is how we should be writing our codes. And you know what? It is EASY! This notebook will have a quick overview of how to add docstrings and comments to your code and how to write a clear code."
   ]
  },
  {
   "cell_type": "markdown",
   "metadata": {},
   "source": [
    "## Do the docstring for your life\n",
    "\n",
    "It is absurdely simple to add docstrings to your python code. That can be done in the beggining of a file or after the definition of a method/function or class. Let me show you some examples.\n",
    "\n",
    "    #!/usr/bin/env python\n",
    "    # -*- coding: utf-8 -*-\n",
    "    \"\"\"\n",
    "    My Sample Code\n",
    "    \n",
    "    This is such a simple documentation! The only thing I have to do \n",
    "    is to add three single quotes (') or double quotes (\") together to \n",
    "    start a docstring block! Then just write down in a few words what\n",
    "    you want to do in your file.\n",
    "    \n",
    "    by J. Bond - Feb 31, 202X\n",
    "    \"\"\"\n",
    "\n",
    "And there you go! You added documentation! Yay!\n",
    "\n",
    "You can do that also if you have the definition of a method."
   ]
  },
  {
   "cell_type": "code",
   "execution_count": 8,
   "metadata": {
    "collapsed": true
   },
   "outputs": [],
   "source": [
    "def say_hello(name):\n",
    "    \"\"\"\n",
    "    This method simply says hello to the person whose name is given \n",
    "    as parameter.\n",
    "    \"\"\"\n",
    "    print \"Hello, {0}!\".format(name)"
   ]
  },
  {
   "cell_type": "code",
   "execution_count": 9,
   "metadata": {
    "collapsed": false
   },
   "outputs": [
    {
     "name": "stdout",
     "output_type": "stream",
     "text": [
      "Hello, Bruno!\n"
     ]
    }
   ],
   "source": [
    "say_hello(\"Bruno\")"
   ]
  },
  {
   "cell_type": "markdown",
   "metadata": {},
   "source": [
    "And if I need to get some more information about this function, I can write:"
   ]
  },
  {
   "cell_type": "code",
   "execution_count": 11,
   "metadata": {
    "collapsed": false
   },
   "outputs": [
    {
     "name": "stdout",
     "output_type": "stream",
     "text": [
      "Help on function say_hello in module __main__:\n",
      "\n",
      "say_hello(name)\n",
      "    This method simply says hello to the person whose name is given \n",
      "    as parameter.\n",
      "\n"
     ]
    }
   ],
   "source": [
    "help(say_hello)"
   ]
  },
  {
   "cell_type": "markdown",
   "metadata": {},
   "source": [
    "There are different documentation standards that you or your group may choose to use. The important thing here is to make sure that [Sphinx]() can read it and process it so you are saving your time. Really.\n",
    "\n",
    "Here are two examples of documentation standards that I already used:\n",
    "\n",
    "### PEP252 DocString Standard"
   ]
  },
  {
   "cell_type": "code",
   "execution_count": 13,
   "metadata": {
    "collapsed": true
   },
   "outputs": [],
   "source": [
    "def say_hello(name):    \n",
    "    \"\"\"    \n",
    "    This method simply says hello to the person \n",
    "    whose name is given as parameter.\n",
    "\n",
    "    :param name: the name of the person that will be greeted.\n",
    "    :type name: string    \n",
    "    \"\"\"    \n",
    "    print \"Hello, {0}!\".format(name)"
   ]
  },
  {
   "cell_type": "markdown",
   "metadata": {},
   "source": [
    "This documentation standard is called PEP 252 and can be found [here](https://www.python.org/dev/peps/pep-0257/).\n",
    "\n",
    "### Sphinx Napoleon Standard"
   ]
  },
  {
   "cell_type": "code",
   "execution_count": 14,
   "metadata": {
    "collapsed": true
   },
   "outputs": [],
   "source": [
    "def say_hello(name):    \n",
    "    \"\"\"    \n",
    "    This method simply says hello to the person \n",
    "    whose name is given as parameter.\n",
    "\n",
    "    Parameters:\n",
    "        name (string) The name of the person that will be greeted.\n",
    "    \"\"\"    \n",
    "    print \"Hello, {0}!\".format(name)"
   ]
  },
  {
   "cell_type": "markdown",
   "metadata": {},
   "source": [
    "This is how Google has been used to document their codes and it is also read by Sphinx. You can find more about this style [here](https://sphinxcontrib-napoleon.readthedocs.io/en/latest/). The final choice is yours to do but you want to make sure you are the clearest possible."
   ]
  },
  {
   "cell_type": "markdown",
   "metadata": {},
   "source": [
    "## Why write if others can’t read?\n",
    "\n",
    "People that work with Python are worried about code readability. That is so true that a document called PEP-8 was written in order to help mortals to get their code clearer and easier to read. The full document is quite short and easy to read and it can be found [here](). Here are some examples. "
   ]
  },
  {
   "cell_type": "markdown",
   "metadata": {},
   "source": [
    "### Language\n",
    "\n",
    "It may be very tempting to write comments and documentation in your mother language. But if you are not **10000000%** sure that your code will be used by people that speak it, write them in English."
   ]
  },
  {
   "cell_type": "markdown",
   "metadata": {},
   "source": [
    "### Identation\n",
    "\n",
    "According to PEP-8, one should **always** use space instead of usig tabs. The recommended identation size is 4 spaces. This avoid errors when messing up with both identation methods. Just search over the Internet how to setup your favorite editor to keep the identation method always the same (hopefully 4 spaces)."
   ]
  },
  {
   "cell_type": "code",
   "execution_count": 37,
   "metadata": {
    "collapsed": false
   },
   "outputs": [
    {
     "ename": "IndentationError",
     "evalue": "unindent does not match any outer indentation level (<ipython-input-37-caabfb8f1cf7>, line 3)",
     "output_type": "error",
     "traceback": [
      "\u001b[0;36m  File \u001b[0;32m\"<ipython-input-37-caabfb8f1cf7>\"\u001b[0;36m, line \u001b[0;32m3\u001b[0m\n\u001b[0;31m    print x\u001b[0m\n\u001b[0m           ^\u001b[0m\n\u001b[0;31mIndentationError\u001b[0m\u001b[0;31m:\u001b[0m unindent does not match any outer indentation level\n"
     ]
    }
   ],
   "source": [
    "for i in range(10):\n",
    "\tx = i * 2\n",
    "    print x"
   ]
  },
  {
   "cell_type": "markdown",
   "metadata": {},
   "source": [
    "If the identation size is not respected as well, Python will raise an error. So watch out!"
   ]
  },
  {
   "cell_type": "code",
   "execution_count": 3,
   "metadata": {
    "collapsed": false
   },
   "outputs": [
    {
     "ename": "IndentationError",
     "evalue": "unexpected indent (<ipython-input-3-002f25b8e670>, line 3)",
     "output_type": "error",
     "traceback": [
      "\u001b[0;36m  File \u001b[0;32m\"<ipython-input-3-002f25b8e670>\"\u001b[0;36m, line \u001b[0;32m3\u001b[0m\n\u001b[0;31m    print x\u001b[0m\n\u001b[0m    ^\u001b[0m\n\u001b[0;31mIndentationError\u001b[0m\u001b[0;31m:\u001b[0m unexpected indent\n"
     ]
    }
   ],
   "source": [
    "for i in range(10):\n",
    "    x = i * 2\n",
    "     print x"
   ]
  },
  {
   "cell_type": "markdown",
   "metadata": {},
   "source": [
    "Here is how the code is supposed to be:"
   ]
  },
  {
   "cell_type": "code",
   "execution_count": 2,
   "metadata": {
    "collapsed": false
   },
   "outputs": [
    {
     "name": "stdout",
     "output_type": "stream",
     "text": [
      "0\n",
      "2\n",
      "4\n",
      "6\n",
      "8\n",
      "10\n",
      "12\n",
      "14\n",
      "16\n",
      "18\n"
     ]
    }
   ],
   "source": [
    "for i in range(10):\n",
    "    x = i * 2\n",
    "    print x"
   ]
  },
  {
   "cell_type": "markdown",
   "metadata": {},
   "source": [
    "### Do a proper name\n",
    "\n",
    "Look the following method definition:\n",
    "\n",
    "1. Muti-word variables and methods should be lower-case and separated by underscore. Ex:\n",
    "    "
   ]
  },
  {
   "cell_type": "code",
   "execution_count": null,
   "metadata": {
    "collapsed": true
   },
   "outputs": [],
   "source": [
    "number_of_states = 5\n",
    "def sum_integers(x, y):\n",
    "    return (x, y)"
   ]
  },
  {
   "cell_type": "markdown",
   "metadata": {},
   "source": [
    "2. Classes can follow CamelCase notation:"
   ]
  },
  {
   "cell_type": "code",
   "execution_count": 4,
   "metadata": {
    "collapsed": true
   },
   "outputs": [],
   "source": [
    "THIS_IS_A_GLOBAL_VARIABLE = None\n",
    "class PhaseMap:\n",
    "    def __init__(self, **kwargs):\n",
    "        self.input_filename = kwargs['filename']"
   ]
  },
  {
   "cell_type": "markdown",
   "metadata": {},
   "source": [
    "### Leave some space / Self Explanatory Names\n",
    "\n",
    "Try to avoid nested functions. They save number of lines but the are hard to read.\n",
    "\n",
    "Also, try to use self-explanatory names for parameters. For example, avoid this:"
   ]
  },
  {
   "cell_type": "code",
   "execution_count": 5,
   "metadata": {
    "collapsed": true
   },
   "outputs": [],
   "source": [
    "import numpy as np\n",
    "\n",
    "def SnellLaw(t,n):\n",
    "    return np.deg(np.asin(np.sin(np.rad(t))/n))"
   ]
  },
  {
   "cell_type": "markdown",
   "metadata": {},
   "source": [
    "Prefer to write something like this:"
   ]
  },
  {
   "cell_type": "code",
   "execution_count": null,
   "metadata": {
    "collapsed": true
   },
   "outputs": [],
   "source": [
    "import numpy as np\n",
    "\n",
    "def snell_law(incident_angle, refractive_index):\n",
    "    \n",
    "    theta = np.rad(incident_angle)\n",
    "    n = refractive_index\n",
    "    \n",
    "    temp = np.sin(theta) / n\n",
    "    temp = np.asin(temp)\n",
    "    output_angle = np.deg(temp)\n",
    "    \n",
    "    return output_angle"
   ]
  },
  {
   "cell_type": "markdown",
   "metadata": {},
   "source": [
    "### Line length\n",
    "\n",
    "Avoid code lines with more than 80 character. That's the terminal lenght. "
   ]
  },
  {
   "cell_type": "code",
   "execution_count": 49,
   "metadata": {
    "collapsed": true
   },
   "outputs": [],
   "source": [
    "import numpy as np\n",
    "\n",
    "def snells_law(incident_angle, ref_index):\n",
    "    \n",
    "    theta = np.radian(incident_angle)\n",
    "    n = ref_index\n",
    "    \n",
    "    temp = np.sin(theta) / n\n",
    "    temp = np.asin(temp)\n",
    "    out_angle = np.deg(temp)\n",
    "    \n",
    "    return out_angle"
   ]
  },
  {
   "cell_type": "markdown",
   "metadata": {},
   "source": [
    "### Re-using files\n",
    "\n",
    "I already had the terrible experience of getting to codes where it is simply impossible to track down where the variables come from. Ok, not impossible. But rearly there. At least considering the time that I had to look into those codes.\n",
    "\n",
    "I ended up not using them simply because the way that the author was importing files was giving me no clue about where I could find the definition of functions, classes, etc. Here is an example. Consider you have a file called `file_1.py`"
   ]
  },
  {
   "cell_type": "code",
   "execution_count": 33,
   "metadata": {
    "collapsed": true
   },
   "outputs": [],
   "source": [
    "# file_1.py\n",
    "x = 10\n",
    "y = 20"
   ]
  },
  {
   "cell_type": "markdown",
   "metadata": {},
   "source": [
    "Now I want to use `x` and `y`(or probably something much more complicated that I do not want to write again). Here is one way that I can re-use my existing file:"
   ]
  },
  {
   "cell_type": "code",
   "execution_count": 40,
   "metadata": {
    "collapsed": false
   },
   "outputs": [
    {
     "name": "stdout",
     "output_type": "stream",
     "text": [
      "30\n"
     ]
    }
   ],
   "source": [
    "from file_1 import *\n",
    "print x + y"
   ]
  },
  {
   "cell_type": "markdown",
   "metadata": {},
   "source": [
    "Ok. That is easy. But what if my code has hundreds of lines and what if I imported four files instead of one?"
   ]
  },
  {
   "cell_type": "code",
   "execution_count": 41,
   "metadata": {
    "collapsed": false
   },
   "outputs": [
    {
     "name": "stdout",
     "output_type": "stream",
     "text": [
      "11\n"
     ]
    }
   ],
   "source": [
    "from file_1 import *\n",
    "from file_2 import *\n",
    "print a + x"
   ]
  },
  {
   "cell_type": "markdown",
   "metadata": {},
   "source": [
    "Three lines. Two files. And we are already screwed. Please, be a nice person and just do a proper import so the reader know what is going on."
   ]
  },
  {
   "cell_type": "code",
   "execution_count": 44,
   "metadata": {
    "collapsed": false
   },
   "outputs": [
    {
     "name": "stdout",
     "output_type": "stream",
     "text": [
      "31\n"
     ]
    }
   ],
   "source": [
    "# file_2.py\n",
    "import file_1 \n",
    "import file_2\n",
    "print file_1.x + file_2.a + file_1.y"
   ]
  },
  {
   "cell_type": "code",
   "execution_count": null,
   "metadata": {
    "collapsed": true
   },
   "outputs": [],
   "source": []
  }
 ],
 "metadata": {
  "anaconda-cloud": {},
  "kernelspec": {
   "display_name": "Python [Root]",
   "language": "python",
   "name": "Python [Root]"
  },
  "language_info": {
   "codemirror_mode": {
    "name": "ipython",
    "version": 2
   },
   "file_extension": ".py",
   "mimetype": "text/x-python",
   "name": "python",
   "nbconvert_exporter": "python",
   "pygments_lexer": "ipython2",
   "version": "2.7.11"
  }
 },
 "nbformat": 4,
 "nbformat_minor": 0
}
