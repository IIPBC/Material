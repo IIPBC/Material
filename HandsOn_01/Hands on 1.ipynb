{
 "cells": [
  {
   "cell_type": "markdown",
   "metadata": {},
   "source": [
    "# Hands-on 13/02/2017"
   ]
  },
  {
   "cell_type": "code",
   "execution_count": null,
   "metadata": {
    "collapsed": true
   },
   "outputs": [],
   "source": [
    "1. Print \"Hello world\"\n",
    "  How many characters are there in \"Hello world\"?\n",
    "2. Print \"Hello world 2017\" from the sum of \"Hello\",'world' and 2017\n",
    "3. import numpy\n",
    "4. Make a list of an integer from 1 to 10.\n",
    "5. Insert the number 11 at the end of the list \n",
    "    Hint: you can use the append method\n",
    "6. Reverse the list\n",
    "\n",
    "7. Create a function that returns the square of the list \n",
    "    hint: transform the list into a numpy array.\n",
    "   \n",
    "   How many interger are superior to 50?\n",
    "    \n",
    "8. Create a dictionary in which the keys are the acronyms of the USP institutes and the values the complete name\n",
    "\n",
    "    Escola de Artes, Ciências e Humanidades (EACH)\n",
    "    Escola de Comunicações e Artes (ECA)\n",
    "    Escola de Educação Física e Esporte (EEFE)\n",
    "    Escola de Enfermagem (EE)\n",
    "    Escola Politécnica (Poli)\n",
    "    Faculdade de Arquitetura e Urbanismo (FAU)\n",
    "    Faculdade de Ciências Farmacêuticas (FCF)\n",
    "    Faculdade de Direito (FD)\n",
    "    Faculdade de Economia, Administração e Contabilidade (FEA)\n",
    "    Faculdade de Educação (FE)\n",
    "    Faculdade de Filosofia, Letras e Ciências Humanas (FFLCH)\n",
    "    Faculdade de Medicina (FM)\n",
    "    Faculdade de Medicina Veterinária e Zootecnia (FMVZ)\n",
    "    Faculdade de Odontologia (FO)\n",
    "    Faculdade de Saúde Pública (FSP)\n",
    "    Instituto de Astronomia, Geofísica e Ciências Atmosféricas (IAG)\n",
    "    Instituto de Biociências (IB)\n",
    "    Instituto de Ciências Biomédicas (ICB)\n",
    "    Instituto de Energia e Ambiente (IEE)\n",
    "    Instituto de Estudos Avançados (IEA)\n",
    "    Instituto de Estudos Brasileiros (IEB)\n",
    "    Instituto de Física (IF)\n",
    "    Instituto de Geociências (IGc)\n",
    "    Instituto de Matemática e Estatística (IME)\n",
    "    Instituto de Medicina Tropical de São Paulo (IMT)\n",
    "    Instituto de Psicologia (IP)\n",
    "    Instituto de Química (IQ)\n",
    "    Instituto de Relações Internacionais (IRI)\n",
    "    Instituto Oceanográfico (IO)\n",
    "    \n",
    "9. In this dictionary, insert the IAG Python Boot Camp with the PBCII acronym\n",
    "\n",
    "10. Write a Python script to generate and print a dictionary that contains a number (between 1 and n) in the form (x, x^2). Go to the editor\n",
    "    Sample Dictionary ( n = 100) : \n",
    "    Expected Output : {1: 1, 2: 4, 3: 9, 4: 16, 5: 25 ....}\n",
    "\n"
   ]
  },
  {
   "cell_type": "code",
   "execution_count": 28,
   "metadata": {
    "collapsed": false
   },
   "outputs": [
    {
     "name": "stdout",
     "output_type": "stream",
     "text": [
      "Hello world\n",
      "11\n",
      "[11, 10, 9, 8, 7, 6, 5, 4, 3, 2, 1]\n",
      "4\n"
     ]
    }
   ],
   "source": [
    "print('Hello world')\n",
    "hw = \"Hello world\"\n",
    "print len(hw)\n",
    "\n",
    "import numpy as np\n",
    "my_list = [1,2,3,4,5,6,7,8,9,10]\n",
    "#range(1,11)\n",
    "my_list.append(11)\n",
    "my_list_reversed = my_list[::-1]\n",
    "print my_list_reversed\n",
    "\n",
    "def squared(list):\n",
    "    return np.array(list)**2\n",
    "\n",
    "sq = squared(my_list_reversed)\n",
    "print sum(sq>50)"
   ]
  },
  {
   "cell_type": "code",
   "execution_count": 25,
   "metadata": {
    "collapsed": false
   },
   "outputs": [
    {
     "name": "stdout",
     "output_type": "stream",
     "text": [
      "Escola de Artes, Ciências e Humanidades\n"
     ]
    }
   ],
   "source": [
    "institutes =    {\"EACH\":\"Escola de Artes, Ciências e Humanidades\",\n",
    "    \"ECA\":\"Escola de Comunicações e Artes\"}\n",
    "\n",
    "print institutes['EACH']\n",
    "\n",
    "institutes['PBCII'] = \"IAG Python Boot Camp\""
   ]
  },
  {
   "cell_type": "code",
   "execution_count": 22,
   "metadata": {
    "collapsed": false
   },
   "outputs": [
    {
     "name": "stdout",
     "output_type": "stream",
     "text": [
      "hello world\n"
     ]
    }
   ],
   "source": [
    "my_string = \"hello\"+\" world\"\n",
    "print my_string"
   ]
  }
 ],
 "metadata": {
  "anaconda-cloud": {},
  "kernelspec": {
   "display_name": "Python [default]",
   "language": "python",
   "name": "python2"
  },
  "language_info": {
   "codemirror_mode": {
    "name": "ipython",
    "version": 2
   },
   "file_extension": ".py",
   "mimetype": "text/x-python",
   "name": "python",
   "nbconvert_exporter": "python",
   "pygments_lexer": "ipython2",
   "version": "2.7.12"
  }
 },
 "nbformat": 4,
 "nbformat_minor": 2
}
