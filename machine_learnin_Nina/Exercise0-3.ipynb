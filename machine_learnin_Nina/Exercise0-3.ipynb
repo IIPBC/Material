{
 "cells": [
  {
   "cell_type": "markdown",
   "metadata": {},
   "source": [
    "## Exercício 0-3\n",
    "No caso de classificação de dados 2D, $\\mathbf{x}=(x_1,x_2)$ e $y$ é o rótulo de uma classe.<br>\n",
    "Aqui também o rótulo $y$ é representado pelos valores 1 (positivo, na cor azul) ou 0 (negativo, na cor vermelha)"
   ]
  },
  {
   "cell_type": "code",
   "execution_count": null,
   "metadata": {
    "collapsed": true
   },
   "outputs": [],
   "source": [
    "import matplotlib.pyplot as plt\n",
    "import numpy as np"
   ]
  },
  {
   "cell_type": "code",
   "execution_count": null,
   "metadata": {
    "collapsed": false
   },
   "outputs": [],
   "source": [
    "# draw N random points in the [0,1]x[0,1] square\n",
    "N = 100\n",
    "\n",
    "x1 = np.random.rand(N)\n",
    "x2 = np.random.rand(N)\n",
    "\n",
    "# gráfico à esquerda mostra o conjunto de pontos e uma cosenóide\n",
    "p = plt.figure()\n",
    "p1 = p.add_subplot(121)\n",
    "p1.plot(x1,x2,'rx')\n",
    "\n",
    "# create a senoidal curve and add to the plot\n",
    "x = np.arange(0, 1.0, 0.01)\n",
    "fx = np.cos(2*np.pi*x) / 2 + 0.5\n",
    "p1.plot(x, fx, lw=2)\n",
    "\n",
    "\n",
    "# Gráfico à direita discrimina positivos (acima da curva) dos negativos (abaixo da curva)\n",
    "# Ou seja, seria assim se a fronteira de decisão fosse a curva cosenóide\n",
    "p2 = p.add_subplot(122)\n",
    "for i in range(N):\n",
    "    if np.cos(2*np.pi*x1[i])/2 + 0.5 > x2[i]:\n",
    "        p2.plot(x1[i],x2[i],'bo')  # o (bolinhas) azuis (blue)\n",
    "    else:\n",
    "        p2.plot(x1[i],x2[i],'ro')  # o (bolinhas) vermelhas (red)\n",
    "        \n",
    "p2.plot(x, fx, lw=2)        \n",
    "plt.show()"
   ]
  }
 ],
 "metadata": {
  "kernelspec": {
   "display_name": "Python 2",
   "language": "python",
   "name": "python2"
  },
  "language_info": {
   "codemirror_mode": {
    "name": "ipython",
    "version": 2
   },
   "file_extension": ".py",
   "mimetype": "text/x-python",
   "name": "python",
   "nbconvert_exporter": "python",
   "pygments_lexer": "ipython2",
   "version": "2.7.13"
  }
 },
 "nbformat": 4,
 "nbformat_minor": 2
}
