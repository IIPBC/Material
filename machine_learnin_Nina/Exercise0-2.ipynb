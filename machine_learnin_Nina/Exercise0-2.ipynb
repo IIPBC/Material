{
 "cells": [
  {
   "cell_type": "markdown",
   "metadata": {},
   "source": [
    "# Classificação\n",
    "\n",
    "Na classificação, $y$ representa uma informação categórica. A convenção que usaremos será<br>\n",
    "- Classe positiva: 1 (azul)<br>\n",
    "- Classe negativa: 0 (vermelha)\n"
   ]
  },
  {
   "cell_type": "markdown",
   "metadata": {},
   "source": [
    "<b>Objetivo</b>: familiarizar-se com a representação dos dados e plot<br>\n",
    "\n",
    "Note que, diferentemente do caso de regressão, aqui $y$ representa o rótulo de uma classe e portanto no plot ele aparece como uma cor."
   ]
  },
  {
   "cell_type": "code",
   "execution_count": null,
   "metadata": {
    "collapsed": false
   },
   "outputs": [],
   "source": [
    "import matplotlib.pyplot as plt\n",
    "import numpy as np\n",
    "\n",
    "# Criar um array com N números.\n",
    "# Cada um desses números é um exemplo x\n",
    "# Em seguida, estender os exemplos:  x ---> (1,x)\n",
    "N = 14\n",
    "x = np.array([0.2, 0.5, 1, 1.1, 1.2, 1.8, 2, 4.3, 4.4, 5.7, 6.9, 7.5, 8, 8.2])\n",
    "X = np.vstack(zip(np.ones(N), x))\n",
    "\n",
    "print X.shape\n",
    "\n",
    "\n",
    "# Supor que os exemplos na primeira metade são negativos e o restante são\n",
    "# positivos\n",
    "y = np.array([0, 0, 0, 0, 0, 0, 0, 1, 1, 1, 1, 1, 1, 1])\n",
    "\n",
    "print y.shape\n",
    "\n",
    "\n",
    "# show elements in distinct colors to discriminate negative from positive ones\n",
    "for i in range(N):\n",
    "    if y[i]==1:\n",
    "        plt.plot(X[i,1], 0, 'bo')  # o (bolinhas) azuis (blue)\n",
    "    else:\n",
    "        plt.plot(X[i,1], 0, 'ro')  # o (bolinhas) vermelhas (red)\n",
    "        \n",
    "plt.ylim(-1,1)\n",
    "plt.title('Exemplos de duas classes')\n",
    "plt.xlabel('x')\n",
    "ax1 = plt.axes()\n",
    "ax1.axes.get_yaxis().set_visible(False)\n",
    "plt.show()"
   ]
  },
  {
   "cell_type": "markdown",
   "metadata": {},
   "source": [
    "Qual seria uma fronteira de decisão ?"
   ]
  }
 ],
 "metadata": {
  "kernelspec": {
   "display_name": "Python 2",
   "language": "python",
   "name": "python2"
  },
  "language_info": {
   "codemirror_mode": {
    "name": "ipython",
    "version": 2
   },
   "file_extension": ".py",
   "mimetype": "text/x-python",
   "name": "python",
   "nbconvert_exporter": "python",
   "pygments_lexer": "ipython2",
   "version": "2.7.13"
  }
 },
 "nbformat": 4,
 "nbformat_minor": 2
}
