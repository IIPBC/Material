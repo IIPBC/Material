{
 "cells": [
  {
   "cell_type": "markdown",
   "metadata": {},
   "source": [
    "# PLOTS"
   ]
  },
  {
   "cell_type": "markdown",
   "metadata": {},
   "source": [
    "In this section we will make some plots. Dataset credit: http://www.climatedata.info/proxies/data-downloads/\n",
    "\n",
    "Download the dataset here:\n",
    "https://raw.githubusercontent.com/IIPBC/Material/master/HandsOn_2_matplotlib/climatedata.csv\n",
    "\n",
    "\n",
    "1) Import the wished libraries\n",
    "\n",
    "2) Read your dataset \n",
    "\n",
    "3) Read the variables \n",
    "\n",
    "4) Make a simple plot! \n",
    "\n",
    "5) Show that to us! \n",
    "\n",
    "6) Change the color of your plot. \n",
    "\n",
    "7) Configure your the axis of your plot (label, size, etc.) \n",
    "\n",
    "8) Change the y axis of your plot to log scale! (You may want to test both axis and see what happens)\n",
    "\n",
    "8) Now make a histogram of the temperature.\n",
    "\n",
    "9) Change the bins of your histogram.\n",
    "\n",
    "10) Add a random text in your histogram. \n",
    "\n",
    "11) Make small tailoring of your histogram: add a grid, edit the opacity of the plot and/or the grid, change the bin size, change the color, etc. \n",
    "\n",
    "12) Create two plots at once. Hint: use \"subplots\"\n",
    "\n",
    "\n",
    "\n"
   ]
  },
  {
   "cell_type": "code",
   "execution_count": 1,
   "metadata": {
    "collapsed": false
   },
   "outputs": [
    {
     "name": "stderr",
     "output_type": "stream",
     "text": [
      "/home/mldantas/anaconda2/lib/python2.7/site-packages/matplotlib/font_manager.py:273: UserWarning: Matplotlib is building the font cache using fc-list. This may take a moment.\n",
      "  warnings.warn('Matplotlib is building the font cache using fc-list. This may take a moment.')\n"
     ]
    }
   ],
   "source": [
    "import numpy as np\n",
    "import pandas as pd\n",
    "import matplotlib.pyplot as plt"
   ]
  },
  {
   "cell_type": "code",
   "execution_count": null,
   "metadata": {
    "collapsed": true
   },
   "outputs": [],
   "source": [
    "my_data = pd.read_csv(\"/home/climatedata.csv\")"
   ]
  }
 ],
 "metadata": {
  "anaconda-cloud": {},
  "kernelspec": {
   "display_name": "Python [default]",
   "language": "python",
   "name": "python2"
  },
  "language_info": {
   "codemirror_mode": {
    "name": "ipython",
    "version": 2
   },
   "file_extension": ".py",
   "mimetype": "text/x-python",
   "name": "python",
   "nbconvert_exporter": "python",
   "pygments_lexer": "ipython2",
   "version": "2.7.12"
  }
 },
 "nbformat": 4,
 "nbformat_minor": 1
}
