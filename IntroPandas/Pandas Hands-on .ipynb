{
 "cells": [
  {
   "cell_type": "markdown",
   "metadata": {},
   "source": [
    "# Let's play with Pandas!\n",
    "## Simple Analysis of the Cantareira reservoir hydroclimatic data\n",
    "\n",
    "1. Import pandas, numpy and matplotlib.pyplot\n",
    "2. Create a dataframe from the file \"DataCantareira.csv\".\n",
    "3. Clean your file by droping the NaN\n",
    "4. What is the minimum daily accumulated rainfall? Does it seems a resonable observed value? Remove every events (row) with a negative rainfall from the dataframe.\n",
    "    hint: use boolean indexing\n",
    "5. When the cantareira reservoir experienced its lowest level? \n",
    "    Hint: - select the volume column\n",
    "          - Find the lowest value\n",
    "          - Perform boolean indexing and select the corresponding index\n",
    "6. Make a bar plot of the average annual precipitation.\n",
    "7. Create a new column with the value of the reservoir volume in m³. Knowing that the maximum capacity of the reservoir is approximatively 1000 billions of liter.\n",
    "\n",
    "    \n",
    "\n",
    "    Hint: \n",
    "    - Conversion: volume (m³) = (volume (%)/100) * 10^9   \n",
    "    - Create a function which return the volume in m^3.\n",
    "    - Use the apply method\n",
    "\n",
    "8. In average, which month of the year the reservoir have the highest volume. Similarly, which month of the year there is the highest accumulation of rainfall? (Is there a delay?)  "
   ]
  },
  {
   "cell_type": "code",
   "execution_count": null,
   "metadata": {
    "collapsed": true
   },
   "outputs": [],
   "source": []
  }
 ],
 "metadata": {
  "kernelspec": {
   "display_name": "Python 2",
   "language": "python",
   "name": "python2"
  },
  "language_info": {
   "codemirror_mode": {
    "name": "ipython",
    "version": 2
   },
   "file_extension": ".py",
   "mimetype": "text/x-python",
   "name": "python",
   "nbconvert_exporter": "python",
   "pygments_lexer": "ipython2",
   "version": "2.7.9"
  }
 },
 "nbformat": 4,
 "nbformat_minor": 2
}
