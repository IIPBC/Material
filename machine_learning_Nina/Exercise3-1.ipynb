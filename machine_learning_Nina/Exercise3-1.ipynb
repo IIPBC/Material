{
 "cells": [
  {
   "cell_type": "markdown",
   "metadata": {},
   "source": [
    "# Exercício 3-1: Usando scikit-learn\n",
    "\n",
    "Aqui mostramos como usar alguns classificadores disponíveis no scikit-learn no problema anterior (Exercício 2-2)\n"
   ]
  },
  {
   "cell_type": "markdown",
   "metadata": {},
   "source": [
    "### 1. Gerar os dados"
   ]
  },
  {
   "cell_type": "code",
   "execution_count": null,
   "metadata": {
    "collapsed": false,
    "scrolled": true
   },
   "outputs": [],
   "source": [
    "import matplotlib.pyplot as plt\n",
    "%matplotlib inline\n",
    "import numpy as np\n",
    "\n",
    "# draw N random points in the [0,1]x[0,1] square\n",
    "N = 100\n",
    "\n",
    "x1 = np.random.rand(N)\n",
    "x2 = np.random.rand(N)\n",
    "X = np.vstack(zip(np.ones(N),x1, x2))\n",
    "print X.shape\n",
    "\n",
    "# use cosine to define positive and negative classes\n",
    "y = np.array([1 if np.cos(2*np.pi*X[i,1]) / 2 + 0.5 > X[i,2] else 0 for i in range(N)])\n",
    "\n",
    "p = plt.figure()\n",
    "p1 = p.add_subplot(121)\n",
    "p1.plot(x1,x2,'rx')\n",
    "\n",
    "# create a cosine curve and add to the plot\n",
    "x = np.arange(0, 1.0, 0.01)\n",
    "fx = np.cos(2*np.pi*x) / 2 + 0.5\n",
    "p1.plot(x, fx, lw=2)\n",
    "\n",
    "# discriminate those above and below the curve\n",
    "p2 = p.add_subplot(122)\n",
    "for i in range(N):\n",
    "    if y[i]==1:\n",
    "        p2.plot(x1[i],x2[i],'bo')  # o (bolinhas) azuis (blue)\n",
    "    else:\n",
    "        p2.plot(x1[i],x2[i],'ro')  # o (bolinhas) vermelhas (red)\n",
    "                \n",
    "p2.plot(x, fx, lw=2)\n",
    "plt.show()\n"
   ]
  },
  {
   "cell_type": "markdown",
   "metadata": {},
   "source": [
    "### 2. Usar regressão logística do scikit-learn\n",
    "\n",
    "http://scikit-learn.org/stable/modules/linear_model.html#logistic-regression\n"
   ]
  },
  {
   "cell_type": "code",
   "execution_count": null,
   "metadata": {
    "collapsed": false,
    "scrolled": true
   },
   "outputs": [],
   "source": [
    "from sklearn.linear_model import LogisticRegression\n",
    "\n",
    "clf = LogisticRegression(max_iter=100)  # default max_iter=100\n",
    "clf.fit(X,y)\n",
    "\n",
    "z = clf.predict(X)\n",
    "\n",
    "print z\n",
    "\n",
    "for i in range(N):\n",
    "    if z[i] > 0.5:\n",
    "        plt.plot(X[i,1], X[i,2], 'bx')\n",
    "    else:\n",
    "        plt.plot(X[i,1], X[i,2], 'ro')\n",
    "        \n",
    "plt.plot(x, fx, lw=2)\n",
    "plt.xlabel('x1')\n",
    "plt.ylabel('x2')\n",
    "plt.show()"
   ]
  },
  {
   "cell_type": "markdown",
   "metadata": {},
   "source": [
    "### 3. Usar SVM do scikit-learn\n",
    "\n",
    "http://scikit-learn.org/stable/modules/svm.html"
   ]
  },
  {
   "cell_type": "code",
   "execution_count": null,
   "metadata": {
    "collapsed": false,
    "scrolled": true
   },
   "outputs": [],
   "source": [
    "from sklearn import svm\n",
    "\n",
    "clf = svm.SVC(gamma=0.3, C=100.)\n",
    "clf.fit(X,y)\n",
    "\n",
    "z = clf.predict(X)\n",
    "\n",
    "print z\n",
    "\n",
    "for i in range(N):\n",
    "    if z[i] > 0.5:\n",
    "        plt.plot(X[i,1], X[i,2], 'bx')\n",
    "    else:\n",
    "        plt.plot(X[i,1], X[i,2], 'ro')\n",
    "        \n",
    "plt.plot(x, fx, lw=2)\n",
    "plt.xlabel('x1')\n",
    "plt.ylabel('x2')\n",
    "plt.show()"
   ]
  },
  {
   "cell_type": "markdown",
   "metadata": {},
   "source": [
    "### 4. Redes neurais multicamadas\n",
    "\n",
    "http://scikit-learn.org/stable/modules/generated/sklearn.neural_network.MLPClassifier.html#sklearn.neural_network.MLPClassifier\n"
   ]
  },
  {
   "cell_type": "code",
   "execution_count": null,
   "metadata": {
    "collapsed": false
   },
   "outputs": [],
   "source": [
    "from sklearn.neural_network import MLPClassifier\n",
    "\n",
    "clf = MLPClassifier(solver='sgd', learning_rate_init=0.01, max_iter=800, hidden_layer_sizes=(10), random_state=1)\n",
    "\n",
    "clf.fit(X, y)\n",
    "\n",
    "z = clf.predict(X)\n",
    "print z\n",
    "\n",
    "for i in range(N):\n",
    "    if z[i] > 0.5:\n",
    "        plt.plot(X[i,1], X[i,2], 'bx')\n",
    "    else:\n",
    "        plt.plot(X[i,1], X[i,2], 'ro')\n",
    "        \n",
    "plt.plot(x, fx, lw=2)\n",
    "plt.xlabel('x1')\n",
    "plt.ylabel('x2')\n",
    "plt.show()"
   ]
  }
 ],
 "metadata": {
  "kernelspec": {
   "display_name": "Python 2",
   "language": "python",
   "name": "python2"
  },
  "language_info": {
   "codemirror_mode": {
    "name": "ipython",
    "version": 2
   },
   "file_extension": ".py",
   "mimetype": "text/x-python",
   "name": "python",
   "nbconvert_exporter": "python",
   "pygments_lexer": "ipython2",
   "version": "2.7.13"
  }
 },
 "nbformat": 4,
 "nbformat_minor": 2
}
