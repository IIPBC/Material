{
 "cells": [
  {
   "cell_type": "markdown",
   "metadata": {},
   "source": [
    "# Exercício 1.1\n",
    "\n",
    "Regressão linear, usando o método do gradiente descendente para minimização<br>\n",
    "Em regressão, o que queremos é predizer $y$ para um dado $\\mathbf{x}$.<br>\n",
    "Aqui vamos considerar $\\mathbf{x}$ de dimensão 1 (i.e., $n=1$)"
   ]
  },
  {
   "cell_type": "code",
   "execution_count": null,
   "metadata": {
    "collapsed": true
   },
   "outputs": [],
   "source": [
    "import numpy as np\n",
    "%matplotlib inline\n",
    "import matplotlib.pyplot as plt\n",
    "from mpl_toolkits.mplot3d import Axes3D "
   ]
  },
  {
   "cell_type": "markdown",
   "metadata": {},
   "source": [
    "### 1. Definição da função que calcula o valor da função custo RSS\n",
    "Note que as entradas dessa função são os dados de treinamento X, y e o vetor de pesos w"
   ]
  },
  {
   "cell_type": "code",
   "execution_count": null,
   "metadata": {
    "collapsed": true
   },
   "outputs": [],
   "source": [
    "def computeCost(X, y, w):\n",
    "    N = y.size\n",
    "    J = 0\n",
    "    for i in range(N):\n",
    "        J += np.square(X[i, :].dot(w) - y[i])\n",
    "    J /= (2 * N)\n",
    "    return (J)"
   ]
  },
  {
   "cell_type": "markdown",
   "metadata": {},
   "source": [
    "### 2. Definição da função que aplica o método do gradiente descendente\n",
    "Além dos dados X e y e do vetor de pesos w, recebe também a taxa de aprendizado alpha e o número de iterações<br>\n",
    "Devolve o vetor de pesos atualizado, assim como a evolução do custo ao longo das iterações"
   ]
  },
  {
   "cell_type": "code",
   "execution_count": null,
   "metadata": {
    "collapsed": true
   },
   "outputs": [],
   "source": [
    "def gradientDescent(X, y, w, alpha, num_iters):\n",
    "    N = y.size\n",
    "    J_history = np.zeros(num_iters)\n",
    "    temp = np.zeros(w.size)\n",
    "    numParameters = w.size\n",
    "\n",
    "    for iter in range(num_iters):\n",
    "        for j in range(numParameters):\n",
    "            delta_j = 0\n",
    "            for i in range(N):\n",
    "                delta_j += (X[i, :].dot(w) - y[i]) * X[i, j]\n",
    "            temp[j] = w[j] - alpha * (delta_j / N)\n",
    "        w = temp\n",
    "        J_history[iter] = computeCost(X, y, w)\n",
    "\n",
    "    return (w, J_history)"
   ]
  },
  {
   "cell_type": "markdown",
   "metadata": {},
   "source": [
    "### 3. Parte principal - Leitura de dados \n",
    "Será usado dataset no arquivo \"data1.txt\""
   ]
  },
  {
   "cell_type": "code",
   "execution_count": null,
   "metadata": {
    "collapsed": false
   },
   "outputs": [],
   "source": [
    "fname = 'data1.txt'\n",
    "data = np.loadtxt(fname, delimiter = ',')\n",
    "N = data.shape[0]\n",
    "X = data[:, 0]\n",
    "y = data[:, 1]\n",
    "\n",
    "# estender x acrescentando um componente contante 1. x --->  (1,x)\n",
    "X = np.vstack(zip(np.ones(N), X))\n",
    "\n",
    "print 'Dimensão do array X:', X.shape\n",
    "print 'Dimensão do array y:', y.shape\n"
   ]
  },
  {
   "cell_type": "markdown",
   "metadata": {},
   "source": [
    "### 4. Parte principal - Aplicação do gradiente descendente\n",
    "\n",
    "Experimente, posteriormente, \n",
    "- alterar o valor inicial do vetor de pesos\n",
    "- alterar o valor de alpha\n",
    "- alterar o número de iterações"
   ]
  },
  {
   "cell_type": "code",
   "execution_count": null,
   "metadata": {
    "collapsed": false
   },
   "outputs": [],
   "source": [
    "print 'Running Gradient Descent ...'\n",
    "\n",
    "\n",
    "# chutar uns pesos iniciais\n",
    "w = np.zeros(2)\n",
    "initialCost = computeCost(X, y, w)\n",
    "print 'Initial cost: ', initialCost\n",
    "\n",
    "\n",
    "# Some gradient descent settings\n",
    "iterations = 1500\n",
    "alpha = 0.01\n",
    "\n",
    "# run gradient descent\n",
    "w, J_history = gradientDescent(X, y, w, alpha, iterations)\n",
    "\n",
    "\n",
    "finalCost = computeCost(X, y, w)\n",
    "print 'Final cost: ', finalCost\n",
    "\n",
    "\n",
    "# Predict values for x = 3.5 and x = 7\n",
    "predict1 = np.dot([1, 3.5], w)\n",
    "print 'x = 3.5  predicted output = %f\\n' %(predict1)\n",
    "\n",
    "predict2 = np.dot([1, 7], w)\n",
    "print 'x = 7.0  predicted output = %f\\n' % (predict2)\n",
    "\n",
    "\n",
    "# plot do resultado\n",
    "print 'Weight w found by gradient descent: (%f, %f)' % (w[0], w[1])\n",
    "\n",
    "# Plot the linear fit and predictions\n",
    "plt.plot(X[:,1], y, 'rx')\n",
    "plt.plot(X[:,1], X.dot(w), '-')\n",
    "plt.plot(3.5, predict1,'o')\n",
    "plt.plot(7, predict2,'+')\n",
    "plt.xlim(-1, 10)\n",
    "plt.ylim(-1,6)\n",
    "plt.xlabel('x')\n",
    "plt.ylabel('y')\n",
    "plt.show()\n"
   ]
  },
  {
   "cell_type": "markdown",
   "metadata": {},
   "source": [
    "### 5. Parte principal - plot da evolução do custo"
   ]
  },
  {
   "cell_type": "code",
   "execution_count": null,
   "metadata": {
    "collapsed": false
   },
   "outputs": [],
   "source": [
    "# plot da evolução do custo no treinamento já realizado\n",
    "fig = plt.gcf()\n",
    "fig.set_size_inches(18.5, 10.5)\n",
    "plt.subplot(121)\n",
    "plt.plot(range(1, J_history.size + 1), J_history, '-')\n",
    "plt.xlabel('Iteration')\n",
    "plt.ylabel('Cost')\n",
    "\n",
    "# um segundo treinamento, com valor de alpha distinto\n",
    "w2 = np.zeros(2)\n",
    "alpha2 = 0.05\n",
    "w2, J_history2 = gradientDescent(X, y, w2, alpha2, iterations)\n",
    "\n",
    "plt.subplot(122)\n",
    "plt.plot(range(1, J_history2.size + 1), J_history2, '-')\n",
    "plt.xlabel('Iteration')\n",
    "plt.ylabel('Cost')\n",
    "plt.show()"
   ]
  },
  {
   "cell_type": "markdown",
   "metadata": {},
   "source": [
    "### 6. Parte principal - visualização da função de custo J\n",
    "Compare a região do mínimo com o vetor de pesos (w0,w1) calculado acima"
   ]
  },
  {
   "cell_type": "code",
   "execution_count": null,
   "metadata": {
    "collapsed": false,
    "scrolled": true
   },
   "outputs": [],
   "source": [
    "print 'Visualizing J(w_0, w_1)'\n",
    "\n",
    "# Grid over which we will calculate J\n",
    "w0_vals = np.linspace(-10, 10, 50);\n",
    "w1_vals = np.linspace(-1, 4, 50);\n",
    "\n",
    "w0_coord, w1_coord = np.meshgrid(w0_vals, w1_vals)\n",
    "\n",
    "# initialize J_vals to a matrix of 0's\n",
    "J_vals = np.zeros((w0_vals.size, w1_vals.size))\n",
    "\n",
    "# Fill out J_vals\n",
    "for i in range(w0_vals.size):\n",
    "    for j in range(w1_vals.size):\n",
    "        t = [w0_vals[i], w1_vals[j]]   \n",
    "        J_vals[i,j] = computeCost(X, y, t)\n",
    "\n",
    "# Surface plot\n",
    "fig = plt.figure()\n",
    "ax = fig.add_subplot(111, projection = '3d')\n",
    "ax.plot_surface(w0_coord, w1_coord, J_vals.T, rstride=1, cstride=1, alpha=0.6, cmap=plt.cm.jet)\n",
    "ax.set_xlabel(r'$w_0$')\n",
    "ax.set_ylabel(r'$w_1$')\n",
    "ax.set_zlabel('Cost')\n",
    "ax.view_init(elev=15, azim=230)\n",
    "plt.show()"
   ]
  },
  {
   "cell_type": "markdown",
   "metadata": {},
   "source": [
    "### 7. Repetir para outro dataset\n",
    "\n",
    "Rode a partir do passo 3, trocando o nome do arquivo para data2.txt<br>\n",
    "Note que algumas configurações do plot precisarão ser ajustados para uma melhor visualização.<br>\n",
    "Isto pode ficar para depois.\n",
    "\n"
   ]
  },
  {
   "cell_type": "markdown",
   "metadata": {},
   "source": [
    "### 8. Copie as duas funções que estão no início desta página para o arquivo funcoes.py, na mesma pasta\n",
    "\n",
    "Talvez seja necessário incluir a linha a seguir no início do arquivo ...\n",
    "\n",
    "<tt># -*- coding: utf-8 -*-</tt>\n"
   ]
  }
 ],
 "metadata": {
  "kernelspec": {
   "display_name": "Python 2",
   "language": "python",
   "name": "python2"
  },
  "language_info": {
   "codemirror_mode": {
    "name": "ipython",
    "version": 2
   },
   "file_extension": ".py",
   "mimetype": "text/x-python",
   "name": "python",
   "nbconvert_exporter": "python",
   "pygments_lexer": "ipython2",
   "version": "2.7.13"
  }
 },
 "nbformat": 4,
 "nbformat_minor": 2
}
