{
 "cells": [
  {
   "cell_type": "markdown",
   "metadata": {},
   "source": [
    "## Exercício 2-2\n",
    "\n",
    "Classificação de pontos: classes positiva (1) e negativa (0)\n",
    "\n",
    "Caso não linearmente separável\n",
    "\n"
   ]
  },
  {
   "cell_type": "markdown",
   "metadata": {},
   "source": [
    "### 1.Gerar os pontos. Vamos supor que a superfície de separação é uma cosenoide\n",
    "Os que estão em um lado da curva são positivos (azuis) e os que estão do outro lado são negativos (vermelhos)"
   ]
  },
  {
   "cell_type": "code",
   "execution_count": null,
   "metadata": {
    "collapsed": false,
    "scrolled": true
   },
   "outputs": [],
   "source": [
    "import matplotlib.pyplot as plt\n",
    "%matplotlib inline\n",
    "import numpy as np\n",
    "\n",
    "# draw N random points in the [0,1]x[0,1] square\n",
    "N = 100\n",
    "\n",
    "x1 = np.random.rand(N)\n",
    "x2 = np.random.rand(N)\n",
    "X = np.vstack(zip(np.ones(N),x1, x2))\n",
    "print X.shape\n",
    "\n",
    "# use cosine to define positive and negative classes\n",
    "y = np.array([1 if np.cos(2*np.pi*X[i,1]) / 2 + 0.5 > X[i,2] else 0 for i in range(N)])\n",
    "\n",
    "p = plt.figure()\n",
    "p1 = p.add_subplot(121)\n",
    "p1.plot(x1,x2,'rx')\n",
    "\n",
    "# create a cosine curve and add to the plot\n",
    "x = np.arange(0, 1.0, 0.01)\n",
    "fx = np.cos(2*np.pi*x) / 2 + 0.5\n",
    "p1.plot(x, fx, lw=2)\n",
    "\n",
    "# discriminate those above and below the curve\n",
    "p2 = p.add_subplot(122)\n",
    "for i in range(N):\n",
    "    if y[i]==1:\n",
    "        p2.plot(x1[i],x2[i],'bo')  # o (bolinhas) azuis (blue)\n",
    "    else:\n",
    "        p2.plot(x1[i],x2[i],'ro')  # o (bolinhas) vermelhas (red)\n",
    "                \n",
    "p2.plot(x, fx, lw=2)\n",
    "plt.show()\n"
   ]
  },
  {
   "cell_type": "markdown",
   "metadata": {},
   "source": [
    "### 2. Aplicar a regressão logística"
   ]
  },
  {
   "cell_type": "code",
   "execution_count": null,
   "metadata": {
    "collapsed": false
   },
   "outputs": [],
   "source": [
    "from funcoes2 import sigmoid, gradientDescent2, computeCost2\n",
    "\n",
    "# chutar uns pesos iniciais\n",
    "w = np.zeros(3)\n",
    "initialCost = computeCost2(X, y, w)\n",
    "print 'Initial cost: ', initialCost\n",
    "\n",
    "# Some gradient descent settings\n",
    "iterations = 1000\n",
    "alpha = 0.05\n",
    "\n",
    "# run gradient descent\n",
    "w, J_history = gradientDescent2(X, y, w, alpha, iterations)\n",
    "\n",
    "finalCost = computeCost2(X, y, w)\n",
    "print 'Final cost: ', finalCost\n",
    "\n",
    "print w\n",
    "\n",
    "R = X.dot(w)\n",
    "#print R\n",
    "\n",
    "for i in range(N):\n",
    "    if sigmoid(R[i]) > 0.5:\n",
    "    #if X[i,:].dot(w) > 0:\n",
    "        plt.plot(X[i,1], X[i,2], 'bx')\n",
    "    else:\n",
    "        plt.plot(X[i,1], X[i,2], 'ro')\n",
    "\n",
    "plt.plot(x, fx, lw=2)\n",
    "xs = np.arange(0, max(X[:,1]), 0.01)\n",
    "fxs = [(-w[0]-w[1]*p)/w[2] for p in x ]\n",
    "plt.plot(xs, fxs, lw=2)\n",
    "plt.xlabel('x1')\n",
    "plt.ylabel('x2')\n",
    "plt.show()"
   ]
  },
  {
   "cell_type": "markdown",
   "metadata": {},
   "source": [
    "### 3. Adicionar novos features (polinomiais)\n",
    "\n",
    "O dado original estendido é da forma $(1,x_1,x_2)$. Vamos criar novas features. Expecificamente, consideraremos $(1,x_1,x_2,x_1^2,x_1\\,x_2, x_2^2)$ e aplicar a regressão logística ao dado \"ampliado\".\n"
   ]
  },
  {
   "cell_type": "code",
   "execution_count": null,
   "metadata": {
    "collapsed": false
   },
   "outputs": [],
   "source": [
    "X = np.vstack(zip(np.ones(N),x1, x2, x1*x1, x1*x2, x2*x2))\n",
    "print X.shape"
   ]
  },
  {
   "cell_type": "code",
   "execution_count": null,
   "metadata": {
    "collapsed": false
   },
   "outputs": [],
   "source": [
    "# chutar uns pesos iniciais\n",
    "w = np.zeros(6)\n",
    "initialCost = computeCost2(X, y, w)\n",
    "print 'Initial cost: ', initialCost\n",
    "\n",
    "# Some gradient descent settings\n",
    "iterations = 1500\n",
    "alpha = 0.1\n",
    "\n",
    "# run gradient descent\n",
    "w, J_history = gradientDescent2(X, y, w, alpha, iterations)\n",
    "\n",
    "finalCost = computeCost2(X, y, w)\n",
    "print 'Final cost: ', finalCost\n",
    "\n",
    "print w\n",
    "\n",
    "R = X.dot(w)\n",
    "#print R\n",
    "\n",
    "for i in range(N):\n",
    "    if sigmoid(R[i]) > 0.5:\n",
    "    #if X[i,:].dot(w) > 0:\n",
    "        plt.plot(X[i,1], X[i,2], 'bx')\n",
    "    else:\n",
    "        plt.plot(X[i,1], X[i,2], 'ro')\n",
    "plt.plot(x, fx, lw=2)\n",
    "plt.xlabel('x1')\n",
    "plt.ylabel('x2')\n",
    "plt.show()"
   ]
  },
  {
   "cell_type": "markdown",
   "metadata": {},
   "source": [
    "Rode algumas vezes, alterando o valor de alpha e o número de iterações."
   ]
  }
 ],
 "metadata": {
  "kernelspec": {
   "display_name": "Python 2",
   "language": "python",
   "name": "python2"
  },
  "language_info": {
   "codemirror_mode": {
    "name": "ipython",
    "version": 2
   },
   "file_extension": ".py",
   "mimetype": "text/x-python",
   "name": "python",
   "nbconvert_exporter": "python",
   "pygments_lexer": "ipython2",
   "version": "2.7.13"
  }
 },
 "nbformat": 4,
 "nbformat_minor": 2
}
