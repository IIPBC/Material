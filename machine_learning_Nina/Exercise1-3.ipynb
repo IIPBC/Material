{
 "cells": [
  {
   "cell_type": "markdown",
   "metadata": {},
   "source": [
    "# Exercício 1-3: Classificação\n"
   ]
  },
  {
   "cell_type": "markdown",
   "metadata": {},
   "source": [
    "<b>Objetivo:</b> Entender como aplicar a regressão linear e a regressão logística."
   ]
  },
  {
   "cell_type": "markdown",
   "metadata": {},
   "source": [
    "### 1. Como aplicar regressão em um problema de classificação\n",
    "\n",
    "O rótulo $y$ (valor 0 ou 1 no nosso caso) pode ser pensado como o valor que desejamos predizer para uma observação $\\mathbf{x}$ qualquer.<br>\n",
    "\n",
    "<br>\n",
    "Portanto a ideia é isso mesmo. Usaremos aqui os mesmos dados do Exercício 0-1.<br>\n",
    "No plot a seguir, os exemplos positivos e negativos aparecem em alturas distintas no gráfico (diferentemente da forma vista no Exercício 0-1)"
   ]
  },
  {
   "cell_type": "code",
   "execution_count": null,
   "metadata": {
    "collapsed": false
   },
   "outputs": [],
   "source": [
    "\n",
    "import matplotlib.pyplot as plt\n",
    "%matplotlib inline\n",
    "import numpy as np\n",
    "\n",
    "# Criar um array com n números.\n",
    "# Cada um desses números é um exemplo x\n",
    "# Em seguida, estender os exemplos:  x ---> (1,x)\n",
    "N = 14\n",
    "x = np.array([0.2, 0.5, 1, 1.1, 1.2, 1.8, 2, 4.3, 4.4, 5.7, 6.9, 7.5, 8, 8.2])\n",
    "X = np.vstack(zip(np.ones(N), x))\n",
    "\n",
    "print 'Dimensão do array X:', X.shape\n",
    "\n",
    "\n",
    "# Supor que os exemplos na primeira metade são negativos e o restante são\n",
    "# positivos\n",
    "y = np.array([0, 0, 0, 0, 0, 0, 0, 1, 1, 1, 1, 1, 1, 1])\n",
    "\n",
    "print 'dimensão do array y:', y.shape\n",
    "\n",
    "\n",
    "# show elements in distinct colors to discriminate negative from positive ones\n",
    "for i in range(N):\n",
    "    if y[i]==1:\n",
    "        plt.plot(X[i,1], y[i], 'bo')  # o (bolinhas) azuis (blue)\n",
    "    else:\n",
    "        plt.plot(X[i,1], y[i], 'ro')  # o (bolinhas) vermelhas (red)\n",
    "        \n",
    "plt.ylim(-1,2)\n",
    "plt.xlabel('x')\n",
    "plt.ylabel('y (classe)')\n",
    "plt.show()"
   ]
  },
  {
   "cell_type": "markdown",
   "metadata": {},
   "source": [
    "### 2. Regressão linear\n",
    "\n",
    "Vamos aplicar a regressão linear, usando o método gradiente descendente.<br>\n",
    "Se não lembrar do método, volte para o Exercício 1-1<br>\n",
    "\n",
    "Neste ponto, você já deve ter criado o arquivo <tt>funcoes.py</tt>\n"
   ]
  },
  {
   "cell_type": "code",
   "execution_count": null,
   "metadata": {
    "collapsed": false
   },
   "outputs": [],
   "source": [
    "# Supomos que o arquivo funcoes.py já está criado\n",
    "from funcoes import gradientDescent, computeCost\n",
    "\n",
    "\n",
    "# chutar uns pesos iniciais e calcular o custo inicial\n",
    "w = np.zeros(2)\n",
    "\n",
    "initialCost = computeCost(X, y, w)\n",
    "print 'Initial cost: ', initialCost\n",
    "\n",
    "\n",
    "# Some gradient descent settings\n",
    "iterations = 1500\n",
    "alpha = 0.01\n",
    "\n",
    "\n",
    "# run gradient descent\n",
    "w, J_history = gradientDescent(X, y, w, alpha, iterations)\n",
    "\n",
    "finalCost = computeCost(X, y, w)\n",
    "print 'Final cost: ', finalCost\n",
    "\n",
    "\n",
    "# plot do resultado\n",
    "print 'Weight w found by gradient descent: (%f, %f)' % (w[0], w[1])\n",
    "\n",
    "# Plot the linear fit\n",
    "plt.plot(X[:7,1], y[:7], 'ro')\n",
    "plt.plot(X[7:,1], y[7:], 'bo')\n",
    "plt.plot(X[:,1], X.dot(w), '-')\n",
    "plt.ylim(-1,2)\n",
    "plt.xlabel('x')\n",
    "plt.ylabel('y (classe)')\n",
    "plt.show()\n"
   ]
  },
  {
   "cell_type": "markdown",
   "metadata": {},
   "source": [
    "Hmmm, alguma coisa está estranha. Está ?\n",
    "Pense um pouco. Você consegue explicar esse resultado ?\n"
   ]
  },
  {
   "cell_type": "markdown",
   "metadata": {},
   "source": [
    "### 3. Regressão logística\n",
    "\n",
    "Vamos aplicar a regressão logística. (Lembre-se: apesar do nome, a regressão logística não visa \"ajustar\" uma função às observações)<br>\n",
    "Na regressão logística, a combinação linear $\\sum_{j=0}^{n} w_j\\,x_j$ é processada pela função sigmoide $s(z) = \\frac{1}{1+e^{-z}}$<br> Isto é, calcula-se:\n",
    "$$\n",
    "g(\\mathbf{x}) = s(h(\\mathbf{x})) = s(\\sum_{j=0}^{n} w_j\\,x_j)\n",
    "$$\n",
    "e compara-se $g(\\mathbf{x})$ com $y$. A ideia é que $g(\\mathbf{x})$ aproxime a posteriori $P(y=1|\\mathbf{x})$.<br>\n",
    "\n",
    "Para esta parte, será necessário o arquivo <tt>funcoes2.py</tt> (que faz parte do kit)\n"
   ]
  },
  {
   "cell_type": "code",
   "execution_count": null,
   "metadata": {
    "collapsed": false
   },
   "outputs": [],
   "source": [
    "from funcoes2 import sigmoid, gradientDescent2, computeCost2\n",
    "\n",
    "# chutar uns pesos iniciais e calcular o custo inicial\n",
    "w = np.zeros(2)\n",
    "initialCost = computeCost2(X, y, w)\n",
    "print 'Initial cost: ', initialCost\n",
    "\n",
    "\n",
    "# Some gradient descent settings\n",
    "iterations = 1000\n",
    "alpha = 0.005\n",
    "\n",
    "# run gradient descent\n",
    "w, J_history = gradientDescent2(X, y, w, alpha, iterations)\n",
    "\n",
    "finalCost = computeCost2(X, y, w)\n",
    "print 'Final cost: ', finalCost\n",
    "\n",
    "print w\n",
    "\n",
    "R = X.dot(w)\n",
    "\n",
    "plt.plot(X[:,1], X.dot(w), '-')\n",
    "for i in range(N):\n",
    "    if R[i] > 0.5:\n",
    "        plt.plot(X[i,1], y[i], 'bo')\n",
    "    else:\n",
    "        plt.plot(X[i,1], y[i], 'ro')\n",
    "plt.xlabel('x')\n",
    "plt.ylabel('y (class)')\n",
    "plt.show()"
   ]
  },
  {
   "cell_type": "markdown",
   "metadata": {
    "collapsed": true
   },
   "source": [
    "Funcionou ?<br>\n",
    "É possível melhorar o resultado (encontrar uma reta que separa vermelhos dos azuis) ?"
   ]
  }
 ],
 "metadata": {
  "kernelspec": {
   "display_name": "Python 2",
   "language": "python",
   "name": "python2"
  },
  "language_info": {
   "codemirror_mode": {
    "name": "ipython",
    "version": 2
   },
   "file_extension": ".py",
   "mimetype": "text/x-python",
   "name": "python",
   "nbconvert_exporter": "python",
   "pygments_lexer": "ipython2",
   "version": "2.7.13"
  }
 },
 "nbformat": 4,
 "nbformat_minor": 2
}
