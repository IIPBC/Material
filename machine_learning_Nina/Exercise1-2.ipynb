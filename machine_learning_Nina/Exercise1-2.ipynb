{
 "cells": [
  {
   "cell_type": "markdown",
   "metadata": {},
   "source": [
    "# Exercício 1-2"
   ]
  },
  {
   "cell_type": "markdown",
   "metadata": {},
   "source": [
    "No exercício anterior, usamos o método do gradiente descendente para encontrar o vetor de pesos $w$.\n",
    "\n",
    "Aqui iremos usar a solução analítica, expressa na forma matricial por $w = (X^T\\,X)^{-1}\\,X^{T}\\,y$.\n",
    "\n",
    "Lembre que\n",
    "- $X$ é uma matriz $N \\times 2$\n",
    "\n",
    "- $y$ é uma matriz (vetor) $N \\times 1$\n"
   ]
  },
  {
   "cell_type": "markdown",
   "metadata": {},
   "source": [
    "Fazer a leitura de dados (os mesmos do Exercício 1-1) e calcular o vetor de pesos $w$ ótimo de acordo com a equação acima."
   ]
  },
  {
   "cell_type": "code",
   "execution_count": null,
   "metadata": {
    "collapsed": false,
    "scrolled": true
   },
   "outputs": [],
   "source": [
    "import numpy as np\n",
    "%matplotlib inline\n",
    "import matplotlib.pyplot as plt\n",
    "\n",
    "# leitura e preparação dos dados\n",
    "fname = 'data1.txt'\n",
    "data = np.loadtxt(fname, delimiter = ',')\n",
    "N = data.shape[0]\n",
    "X = data[:, 0]\n",
    "y = data[:, 1]\n",
    "\n",
    "X = np.vstack(zip(np.ones(N), X))\n",
    "\n",
    "# cálculo da transposta de X e inversa, antes do cálculo de w\n",
    "XT = np.transpose(X)\n",
    "TMP = np.linalg.inv(XT.dot(X))\n",
    "w = TMP.dot(XT.dot(y))\n",
    "\n",
    "print w\n",
    "\n",
    "# Plot the linear fit\n",
    "plt.plot(X[:,1], y, 'rx')\n",
    "plt.plot(X[:,1], X.dot(w), '-')\n",
    "plt.xlim(-1, 10)\n",
    "plt.ylim(-1,6)\n",
    "plt.xlabel('x')\n",
    "plt.ylabel('y')\n",
    "plt.show()\n"
   ]
  },
  {
   "cell_type": "markdown",
   "metadata": {},
   "source": [
    "Vamos comparar o custo final obtido aqui com o obtido no Exercício 1-1.\n",
    "Para isso, você já devrá ter criado o arquivo funcoes.py com a função computeCost<br>\n",
    "Qual dos métodos resultou em custo menor ? "
   ]
  },
  {
   "cell_type": "code",
   "execution_count": null,
   "metadata": {
    "collapsed": false
   },
   "outputs": [],
   "source": [
    "from funcoes import computeCost\n",
    "\n",
    "finalCost = computeCost(X, y, w)\n",
    "print 'Final cost: ', finalCost\n"
   ]
  }
 ],
 "metadata": {
  "kernelspec": {
   "display_name": "Python 2",
   "language": "python",
   "name": "python2"
  },
  "language_info": {
   "codemirror_mode": {
    "name": "ipython",
    "version": 2
   },
   "file_extension": ".py",
   "mimetype": "text/x-python",
   "name": "python",
   "nbconvert_exporter": "python",
   "pygments_lexer": "ipython2",
   "version": "2.7.13"
  }
 },
 "nbformat": 4,
 "nbformat_minor": 2
}
