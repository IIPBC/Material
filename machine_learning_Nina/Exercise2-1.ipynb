{
 "cells": [
  {
   "cell_type": "markdown",
   "metadata": {},
   "source": [
    "# Exercício 2-2\n",
    "\n",
    "Vamos considerar classificação de dados 2D"
   ]
  },
  {
   "cell_type": "markdown",
   "metadata": {},
   "source": [
    "## Classes linearmente separáveis\n",
    "\n",
    "A fronteira de decisão resultante ao se aplicar a regressão linear ou logística a um problema de classificação é sempre uma função linear (reta, plano, hiperplano). Fronteiras \"tortuosas\" não são possíveis.<br>\n",
    "\n",
    "Aqui vamos examinar a aplicação da regressão logística para a classificação de dados 2D, cuja fronteira de decisão é sabidamente linear."
   ]
  },
  {
   "cell_type": "code",
   "execution_count": null,
   "metadata": {
    "collapsed": true
   },
   "outputs": [],
   "source": [
    "import matplotlib.pyplot as plt\n",
    "%matplotlib inline\n",
    "import numpy as np"
   ]
  },
  {
   "cell_type": "markdown",
   "metadata": {},
   "source": [
    "### 1. Criar um dataset com pontos 2D, linearmente separáveis"
   ]
  },
  {
   "cell_type": "code",
   "execution_count": null,
   "metadata": {
    "collapsed": false,
    "scrolled": true
   },
   "outputs": [],
   "source": [
    "# draw n random points\n",
    "\n",
    "N = 100\n",
    "x1 = np.random.exponential(size=N)\n",
    "x2 = np.random.standard_normal(N)\n",
    "X = np.vstack(zip(np.ones(N),x1, x2))\n",
    "\n",
    "p = plt.figure()\n",
    "p1 = p.add_subplot(121)\n",
    "p1.plot(X[:,1],X[:,2],'rx')\n",
    "\n",
    "# um vetor de pesos qualquer, que definirá a fronteira de decisão\n",
    "w = np.array((-1, 0.7, 2.1))\n",
    "\n",
    "\n",
    "# baseado na fronteira, rotular os dados como positivo ou negativo.\n",
    "y = []\n",
    "p2 = p.add_subplot(122)\n",
    "for i in range(N):\n",
    "    if  X[i,:].dot(w) > 0:\n",
    "        p2.plot(X[i,1],X[i,2],'bo')  # o (bolinhas) azuis (blue)\n",
    "        y.append(1)\n",
    "    else:\n",
    "        p2.plot(X[i,1],X[i,2],'ro')  # o (bolinhas) vermelhas (red)\n",
    "        y.append(0)\n",
    "        \n",
    "y = np.array(y)\n",
    "\n",
    "x = np.arange(0, max(X[:,1]), 0.01)\n",
    "fx = [(-w[0]-w[1]*p)/w[2] for p in x ]\n",
    "p2.plot(x, fx, lw=2)\n",
    "plt.show()"
   ]
  },
  {
   "cell_type": "markdown",
   "metadata": {},
   "source": [
    "### 2. Aplicar regressão linear"
   ]
  },
  {
   "cell_type": "code",
   "execution_count": null,
   "metadata": {
    "collapsed": false
   },
   "outputs": [],
   "source": [
    "# Supomos que o arquivo funcoes.py já está criado\n",
    "from funcoes import gradientDescent, computeCost\n",
    "\n",
    "\n",
    "# chutar uns pesos iniciais e calcular o custo inicial\n",
    "w = np.zeros(3)\n",
    "\n",
    "initialCost = computeCost(X, y, w)\n",
    "print 'Initial cost: ', initialCost\n",
    "\n",
    "\n",
    "# Some gradient descent settings\n",
    "iterations = 500\n",
    "alpha = 0.01\n",
    "\n",
    "\n",
    "# run gradient descent\n",
    "w, J_history = gradientDescent(X, y, w, alpha, iterations)\n",
    "\n",
    "finalCost = computeCost(X, y, w)\n",
    "print 'Final cost: ', finalCost\n",
    "\n",
    "\n",
    "# solução matricial \n",
    "#XT = np.transpose(X)\n",
    "#MP = np.linalg.inv(XT.dot(X))\n",
    "#w = TMP.dot(XT.dot(y))\n",
    "\n",
    "\n",
    "# plot do resultado\n",
    "print 'Weight w found by gradient descent: ', w\n",
    "\n",
    "\n",
    "for i in range(N):\n",
    "    if  y[i]>0 :\n",
    "        plt.plot(X[i,1],X[i,2],'bo')  # o (bolinhas) azuis (blue)\n",
    "    else:\n",
    "        plt.plot(X[i,1],X[i,2],'ro')  # o (bolinhas) vermelhas (red)\n",
    "        \n",
    "x = np.arange(0, max(X[:,1]), 0.01)\n",
    "fx = [(-w[0]-w[1]*p)/w[2] for p in x ]\n",
    "plt.plot(x, fx, lw=2)\n",
    "plt.show()"
   ]
  },
  {
   "cell_type": "markdown",
   "metadata": {},
   "source": [
    "### 3. Aplicar regressão logística"
   ]
  },
  {
   "cell_type": "code",
   "execution_count": null,
   "metadata": {
    "collapsed": false
   },
   "outputs": [],
   "source": [
    "from funcoes2 import sigmoid, gradientDescent2, computeCost2\n",
    "\n",
    "# chutar uns pesos iniciais e calcular o custo inicial\n",
    "w = np.zeros(3)\n",
    "initialCost = computeCost2(X, y, w)\n",
    "print 'Initial cost: ', initialCost\n",
    "\n",
    "\n",
    "# Some gradient descent settings\n",
    "iterations = 500\n",
    "alpha = 0.01\n",
    "\n",
    "# run gradient descent\n",
    "w, J_history = gradientDescent2(X, y, w, alpha, iterations)\n",
    "\n",
    "finalCost = computeCost2(X, y, w)\n",
    "print 'Final cost: ', finalCost\n",
    "\n",
    "print w\n",
    "\n",
    "R = X.dot(w)\n",
    "\n",
    "for i in range(N):\n",
    "    if  y[i]>0 :\n",
    "        plt.plot(X[i,1],X[i,2],'bo')  # o (bolinhas) azuis (blue)\n",
    "    else:\n",
    "        plt.plot(X[i,1],X[i,2],'ro')  # o (bolinhas) vermelhas (red)\n",
    "        \n",
    "x = np.arange(0, max(X[:,1]), 0.01)\n",
    "fx = [(-w[0]-w[1]*p)/w[2] for p in x ]\n",
    "plt.plot(x, fx, lw=2)\n",
    "plt.show()\n"
   ]
  },
  {
   "cell_type": "markdown",
   "metadata": {},
   "source": [
    "Rode algumas vezes, alterando os valores de alpha e número de iterações."
   ]
  }
 ],
 "metadata": {
  "kernelspec": {
   "display_name": "Python 2",
   "language": "python",
   "name": "python2"
  },
  "language_info": {
   "codemirror_mode": {
    "name": "ipython",
    "version": 2
   },
   "file_extension": ".py",
   "mimetype": "text/x-python",
   "name": "python",
   "nbconvert_exporter": "python",
   "pygments_lexer": "ipython2",
   "version": "2.7.13"
  }
 },
 "nbformat": 4,
 "nbformat_minor": 2
}
