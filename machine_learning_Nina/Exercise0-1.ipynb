{
 "cells": [
  {
   "cell_type": "markdown",
   "metadata": {},
   "source": [
    "# Exercício 0-1\n",
    "Básico do básico<br>\n",
    "Apenas para acostumar-se com conjunto de dados (quem é $\\mathbf{x}$, quem é $y$), como plotá-los."
   ]
  },
  {
   "cell_type": "markdown",
   "metadata": {},
   "source": [
    "### 1. Importar algumas bibliotecas"
   ]
  },
  {
   "cell_type": "code",
   "execution_count": null,
   "metadata": {
    "collapsed": true
   },
   "outputs": [],
   "source": [
    "import numpy as np\n",
    "import matplotlib.pyplot as plt"
   ]
  },
  {
   "cell_type": "markdown",
   "metadata": {},
   "source": [
    "### 2. Carregar, examinar e fazer plot dos dados\n",
    "Veja o conteúdo do arquivo \"data1.txt\""
   ]
  },
  {
   "cell_type": "code",
   "execution_count": null,
   "metadata": {
    "collapsed": false
   },
   "outputs": [],
   "source": [
    "# O arquivo de dados é um txt no qual cada linha\n",
    "# contém dois números, separados por vírgula.\n",
    "# A primeira coluna representa x e a segunda coluna y\n",
    "\n",
    "fname = 'data1.txt'\n",
    "data = np.loadtxt(fname, delimiter = ',')\n",
    "\n",
    "N = data.shape[0]  # número de linhas; portanto número de exemplos\n",
    "X = data[:, 0]\n",
    "y = data[:, 1]\n",
    "\n",
    "# Examinar um pouco a dimensão dos arrays\n",
    "print 'Dimensão do array data:', data.shape\n",
    "print 'Dimensão do array X:', X.shape\n",
    "\n",
    "# plotar o dados\n",
    "plt.plot(X, y, 'rx')\n",
    "plt.xlim(-1, 10)\n",
    "plt.ylim(-1, 6)\n",
    "plt.title(fname)\n",
    "plt.xlabel('x')\n",
    "plt.ylabel('y')\n",
    "plt.show()"
   ]
  },
  {
   "cell_type": "markdown",
   "metadata": {},
   "source": [
    "### 3. Ajustar (sobrepor ?) uma reta qualquer\n",
    "Experimente diferentes valores para $\\mathbf{w}=(w_0,w_1)$. Qual seria uma reta que se \"ajusta\" bem aos exemplos ?<br>\n",
    "Veremos mais adiante que a regressão linear encontra a reta que \"melhor se ajusta\" aos dados."
   ]
  },
  {
   "cell_type": "code",
   "execution_count": null,
   "metadata": {
    "collapsed": false
   },
   "outputs": [],
   "source": [
    "# chutar valores para o vetor de pesos\n",
    "w = np.array((1,0.5))\n",
    "\n",
    "# plotar os dados (X,y)\n",
    "plt.plot(X, y, 'rx')\n",
    "\n",
    "# plotar a reta\n",
    "XX = np.vstack(zip(np.ones(N), X))\n",
    "plt.plot(X, XX.dot(w), '-')\n",
    "\n",
    "# Outras configs do plot\n",
    "plt.xlim(-1, 10)\n",
    "plt.ylim(-1, 6)\n",
    "plt.title( fname + ' e a reta %.1f+%.1fx'%(w[0],w[1]) )\n",
    "plt.xlabel('x')\n",
    "plt.ylabel('y')\n",
    "plt.show()"
   ]
  }
 ],
 "metadata": {
  "kernelspec": {
   "display_name": "Python 2",
   "language": "python",
   "name": "python2"
  },
  "language_info": {
   "codemirror_mode": {
    "name": "ipython",
    "version": 2
   },
   "file_extension": ".py",
   "mimetype": "text/x-python",
   "name": "python",
   "nbconvert_exporter": "python",
   "pygments_lexer": "ipython2",
   "version": "2.7.13"
  }
 },
 "nbformat": 4,
 "nbformat_minor": 2
}
